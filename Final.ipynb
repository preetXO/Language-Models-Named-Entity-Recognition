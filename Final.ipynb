{
  "cells": [
    {
      "cell_type": "markdown",
      "metadata": {
        "id": "view-in-github",
        "colab_type": "text"
      },
      "source": [
        "<a href=\"https://colab.research.google.com/github/preetpalsinghspat/Language-Models-Named-Entity-Recognition-/blob/main/Final.ipynb\" target=\"_parent\"><img src=\"https://colab.research.google.com/assets/colab-badge.svg\" alt=\"Open In Colab\"/></a>"
      ]
    },
    {
      "cell_type": "markdown",
      "metadata": {
        "id": "BqZtm8ueyEd1"
      },
      "source": [
        "## Team\n",
        "Preetpal singh, Rampuneet kumar"
      ]
    },
    {
      "cell_type": "markdown",
      "metadata": {
        "id": "6uxx3E2vxhZF"
      },
      "source": [
        "## Aim:\n",
        "### __Named Entity Recognition on astrophysics papers__\n",
        "\n",
        "Locate and tag astronomical entities in astrophysics papers."
      ]
    },
    {
      "cell_type": "markdown",
      "metadata": {
        "id": "ja6v8nMixwks"
      },
      "source": [
        "## Introduction:<br>\n",
        "**Named Entity Recognition** is an information extraction technique used to locate and classify named entities in unstructured text \n",
        "into predifined categories such as names, organizations, locations, numerical values , date etc.<br>\n",
        "\n",
        "Here `NER`  is done to find and tag astronomical entities such as Celestial bodies, Event, Formula and other in astrophysics papers.<br>\n",
        "\n",
        "The dataset tagging is done on **IOB format** (Inside–outside–beginning).\n",
        "\n",
        "A problem by [**Workshop on Information Extraction from Scientific Publications**](https://ui.adsabs.harvard.edu/WIESP/)\n",
        "\n",
        "\n"
      ]
    },
    {
      "cell_type": "markdown",
      "metadata": {
        "id": "l-hQ9advwuK1"
      },
      "source": [
        "## Imports"
      ]
    },
    {
      "cell_type": "code",
      "execution_count": 39,
      "metadata": {
        "id": "tUTuAfUvwUW0"
      },
      "outputs": [],
      "source": [
        "import pandas as pd \n",
        "import numpy as np \n",
        "import json \n",
        "import joblib\n",
        "import matplotlib.pyplot as plt\n",
        "from sklearn.model_selection import train_test_split\n",
        "from tensorflow.keras.layers import LSTM, Input, TimeDistributed, Dense, Embedding,dot,Reshape,Bidirectional\n",
        "from numpy.linalg import norm"
      ]
    },
    {
      "cell_type": "code",
      "execution_count": 2,
      "metadata": {
        "id": "rMi9zXWMOy9U"
      },
      "outputs": [],
      "source": [
        "import tensorflow as tf\n",
        "from tensorflow import keras\n",
        "from sklearn.model_selection import train_test_split\n",
        "from keras.preprocessing.sequence import pad_sequences\n",
        "from tensorflow.keras.utils import to_categorical\n",
        "from keras.preprocessing import sequence\n",
        "from tensorflow.keras.models import Model, Sequential "
      ]
    },
    {
      "cell_type": "code",
      "source": [
        "!gdown --folder https://drive.google.com/drive/folders/1sbzrKzg5l4sfF1tR1MZH3EOhBZiCylO7?usp=sharing "
      ],
      "metadata": {
        "colab": {
          "base_uri": "https://localhost:8080/"
        },
        "id": "ijnDSoHMT-f1",
        "outputId": "10db4da8-2905-4fc4-88c5-d09b3808e250"
      },
      "execution_count": 3,
      "outputs": [
        {
          "output_type": "stream",
          "name": "stdout",
          "text": [
            "Retrieving folder list\n",
            "Processing file 18hViGRsF93C7P9849PhAG_APjxhZJ-GQ WIESP2022-NER-TRAINING.jsonl\n",
            "Processing file 1rbPFEt_vs5fbqsE6-9wOrfKFhLx7h7JU WIESP2022-NER-VALIDATION-NO-LABELS.jsonl\n",
            "Retrieving folder list completed\n",
            "Building directory structure\n",
            "Building directory structure completed\n",
            "Downloading...\n",
            "From: https://drive.google.com/uc?id=18hViGRsF93C7P9849PhAG_APjxhZJ-GQ\n",
            "To: /content/WIE/WIESP2022-NER-TRAINING.jsonl\n",
            "100% 9.95M/9.95M [00:00<00:00, 60.9MB/s]\n",
            "Downloading...\n",
            "From: https://drive.google.com/uc?id=1rbPFEt_vs5fbqsE6-9wOrfKFhLx7h7JU\n",
            "To: /content/WIE/WIESP2022-NER-VALIDATION-NO-LABELS.jsonl\n",
            "100% 3.81M/3.81M [00:00<00:00, 88.2MB/s]\n",
            "Download completed\n"
          ]
        }
      ]
    },
    {
      "cell_type": "markdown",
      "metadata": {
        "id": "OVoIWuzAxlo9"
      },
      "source": [
        "### **DATASET**\n",
        "\n",
        "Name: WIESP2022-NER<br>\n",
        "Link: https://huggingface.co/datasets/fgrezes/WIESP2022-NER\n",
        "\n",
        "__Description__:<br>\n",
        "Dataset contains separate json files for Training and Validation . Made available by [NASA Astrophysical Data System](https://ui.adsabs.harvard.edu/). with manually tagged astronomical facilities and other entities of interest. <br/>\n",
        "__Contains__:<br>\n",
        "  \"unique_id\": a unique identifier for this data sample.<br> \n",
        "  \"tokens\": the list of tokens (strings) that form the text of this sample.<br>\n",
        "  \"ner_tags\": the list of NER tags"
      ]
    },
    {
      "cell_type": "markdown",
      "metadata": {
        "id": "m7VGVM0Mxe5c"
      },
      "source": [
        "### Pre-Processing\n",
        "\n",
        "In this step we will load the json files then covert them to dataframes. Using TensorFlow tokenizer for each sentence we will tokenize and add to the dataframe.\n"
      ]
    },
    {
      "cell_type": "code",
      "execution_count": 4,
      "metadata": {
        "id": "typgSUWB-RAH"
      },
      "outputs": [],
      "source": [
        "file_path = '/content/WIE/WIESP2022-NER-TRAINING.jsonl'\n",
        "file_path_val = '/content/WIE/WIESP2022-NER-VALIDATION-NO-LABELS.jsonl'"
      ]
    },
    {
      "cell_type": "code",
      "execution_count": 5,
      "metadata": {
        "id": "tS8-IH8r-Vd-"
      },
      "outputs": [],
      "source": [
        "# read the json files\n",
        "with open(file_path,'r') as f:\n",
        "  data = [json.loads(a) for a in list(f)]\n",
        "\n",
        "with open(file_path_val,'r') as f:\n",
        "  data_val = [json.loads(a) for a in list(f)]"
      ]
    },
    {
      "cell_type": "code",
      "execution_count": 6,
      "metadata": {
        "id": "OvMeu8Yc-cXf"
      },
      "outputs": [],
      "source": [
        "# create dataframe\n",
        "df_train=pd.DataFrame(data)\n",
        "df_val = pd.DataFrame(data_val)"
      ]
    },
    {
      "cell_type": "code",
      "execution_count": 7,
      "metadata": {
        "id": "ARn6AGLv-htH",
        "colab": {
          "base_uri": "https://localhost:8080/",
          "height": 704
        },
        "outputId": "a98e145c-33a7-48e7-b9ab-fce394186b8b"
      },
      "outputs": [
        {
          "output_type": "execute_result",
          "data": {
            "text/plain": [
              "               bibcode  label_studio_id  \\\n",
              "0  2019MNRAS.486.5558S              487   \n",
              "1  2018MNRAS.478.5533F             1129   \n",
              "2  2018MNRAS.480.3062L             1086   \n",
              "3  2016MNRAS.457.1786M             1135   \n",
              "4  2019MNRAS.482L...9B              559   \n",
              "\n",
              "                                             ner_ids  \\\n",
              "0  [62, 62, 62, 62, 62, 62, 62, 15, 62, 62, 62, 6...   \n",
              "1  [62, 62, 62, 62, 62, 62, 62, 62, 62, 62, 62, 6...   \n",
              "2  [62, 62, 62, 62, 62, 62, 62, 62, 62, 62, 62, 6...   \n",
              "3  [22, 62, 62, 62, 62, 21, 13, 44, 44, 21, 62, 1...   \n",
              "4  [62, 62, 62, 22, 53, 22, 53, 22, 53, 22, 53, 2...   \n",
              "\n",
              "                                            ner_tags          section  \\\n",
              "0  [O, O, O, O, O, O, O, B-Instrument, O, O, O, O...         fulltext   \n",
              "1  [O, O, O, O, O, O, O, O, O, O, O, O, O, O, O, ...         fulltext   \n",
              "2  [O, O, O, O, O, O, O, O, O, O, O, O, O, O, O, ...  acknowledgments   \n",
              "3  [B-Person, O, O, O, O, B-Organization, B-Grant...  acknowledgments   \n",
              "4  [O, O, O, B-Person, I-Person, B-Person, I-Pers...  acknowledgments   \n",
              "\n",
              "                                              tokens  \\\n",
              "0  [Whilst, a, reasonable, harmonic, fit, to, the...   \n",
              "1  [comparison, once, the, angular, positions, of...   \n",
              "2  [ACKNOWLEDGEMENTS, The, authors, thank, an, an...   \n",
              "3  [BDM, gratefully, acknowledges, support, from,...   \n",
              "4  [ACKNOWLEDGEMENTS, We, thank, Dougal, Mackey,,...   \n",
              "\n",
              "                                  unique_id  \n",
              "0          fulltext_487_2019MNRAS.486.5558S  \n",
              "1         fulltext_1129_2018MNRAS.478.5533F  \n",
              "2  acknowledgments_1086_2018MNRAS.480.3062L  \n",
              "3  acknowledgments_1135_2016MNRAS.457.1786M  \n",
              "4   acknowledgments_559_2019MNRAS.482L...9B  "
            ],
            "text/html": [
              "\n",
              "  <div id=\"df-8f6f031c-6acb-4f3e-b70d-4b45180d4de2\">\n",
              "    <div class=\"colab-df-container\">\n",
              "      <div>\n",
              "<style scoped>\n",
              "    .dataframe tbody tr th:only-of-type {\n",
              "        vertical-align: middle;\n",
              "    }\n",
              "\n",
              "    .dataframe tbody tr th {\n",
              "        vertical-align: top;\n",
              "    }\n",
              "\n",
              "    .dataframe thead th {\n",
              "        text-align: right;\n",
              "    }\n",
              "</style>\n",
              "<table border=\"1\" class=\"dataframe\">\n",
              "  <thead>\n",
              "    <tr style=\"text-align: right;\">\n",
              "      <th></th>\n",
              "      <th>bibcode</th>\n",
              "      <th>label_studio_id</th>\n",
              "      <th>ner_ids</th>\n",
              "      <th>ner_tags</th>\n",
              "      <th>section</th>\n",
              "      <th>tokens</th>\n",
              "      <th>unique_id</th>\n",
              "    </tr>\n",
              "  </thead>\n",
              "  <tbody>\n",
              "    <tr>\n",
              "      <th>0</th>\n",
              "      <td>2019MNRAS.486.5558S</td>\n",
              "      <td>487</td>\n",
              "      <td>[62, 62, 62, 62, 62, 62, 62, 15, 62, 62, 62, 6...</td>\n",
              "      <td>[O, O, O, O, O, O, O, B-Instrument, O, O, O, O...</td>\n",
              "      <td>fulltext</td>\n",
              "      <td>[Whilst, a, reasonable, harmonic, fit, to, the...</td>\n",
              "      <td>fulltext_487_2019MNRAS.486.5558S</td>\n",
              "    </tr>\n",
              "    <tr>\n",
              "      <th>1</th>\n",
              "      <td>2018MNRAS.478.5533F</td>\n",
              "      <td>1129</td>\n",
              "      <td>[62, 62, 62, 62, 62, 62, 62, 62, 62, 62, 62, 6...</td>\n",
              "      <td>[O, O, O, O, O, O, O, O, O, O, O, O, O, O, O, ...</td>\n",
              "      <td>fulltext</td>\n",
              "      <td>[comparison, once, the, angular, positions, of...</td>\n",
              "      <td>fulltext_1129_2018MNRAS.478.5533F</td>\n",
              "    </tr>\n",
              "    <tr>\n",
              "      <th>2</th>\n",
              "      <td>2018MNRAS.480.3062L</td>\n",
              "      <td>1086</td>\n",
              "      <td>[62, 62, 62, 62, 62, 62, 62, 62, 62, 62, 62, 6...</td>\n",
              "      <td>[O, O, O, O, O, O, O, O, O, O, O, O, O, O, O, ...</td>\n",
              "      <td>acknowledgments</td>\n",
              "      <td>[ACKNOWLEDGEMENTS, The, authors, thank, an, an...</td>\n",
              "      <td>acknowledgments_1086_2018MNRAS.480.3062L</td>\n",
              "    </tr>\n",
              "    <tr>\n",
              "      <th>3</th>\n",
              "      <td>2016MNRAS.457.1786M</td>\n",
              "      <td>1135</td>\n",
              "      <td>[22, 62, 62, 62, 62, 21, 13, 44, 44, 21, 62, 1...</td>\n",
              "      <td>[B-Person, O, O, O, O, B-Organization, B-Grant...</td>\n",
              "      <td>acknowledgments</td>\n",
              "      <td>[BDM, gratefully, acknowledges, support, from,...</td>\n",
              "      <td>acknowledgments_1135_2016MNRAS.457.1786M</td>\n",
              "    </tr>\n",
              "    <tr>\n",
              "      <th>4</th>\n",
              "      <td>2019MNRAS.482L...9B</td>\n",
              "      <td>559</td>\n",
              "      <td>[62, 62, 62, 22, 53, 22, 53, 22, 53, 22, 53, 2...</td>\n",
              "      <td>[O, O, O, B-Person, I-Person, B-Person, I-Pers...</td>\n",
              "      <td>acknowledgments</td>\n",
              "      <td>[ACKNOWLEDGEMENTS, We, thank, Dougal, Mackey,,...</td>\n",
              "      <td>acknowledgments_559_2019MNRAS.482L...9B</td>\n",
              "    </tr>\n",
              "  </tbody>\n",
              "</table>\n",
              "</div>\n",
              "      <button class=\"colab-df-convert\" onclick=\"convertToInteractive('df-8f6f031c-6acb-4f3e-b70d-4b45180d4de2')\"\n",
              "              title=\"Convert this dataframe to an interactive table.\"\n",
              "              style=\"display:none;\">\n",
              "        \n",
              "  <svg xmlns=\"http://www.w3.org/2000/svg\" height=\"24px\"viewBox=\"0 0 24 24\"\n",
              "       width=\"24px\">\n",
              "    <path d=\"M0 0h24v24H0V0z\" fill=\"none\"/>\n",
              "    <path d=\"M18.56 5.44l.94 2.06.94-2.06 2.06-.94-2.06-.94-.94-2.06-.94 2.06-2.06.94zm-11 1L8.5 8.5l.94-2.06 2.06-.94-2.06-.94L8.5 2.5l-.94 2.06-2.06.94zm10 10l.94 2.06.94-2.06 2.06-.94-2.06-.94-.94-2.06-.94 2.06-2.06.94z\"/><path d=\"M17.41 7.96l-1.37-1.37c-.4-.4-.92-.59-1.43-.59-.52 0-1.04.2-1.43.59L10.3 9.45l-7.72 7.72c-.78.78-.78 2.05 0 2.83L4 21.41c.39.39.9.59 1.41.59.51 0 1.02-.2 1.41-.59l7.78-7.78 2.81-2.81c.8-.78.8-2.07 0-2.86zM5.41 20L4 18.59l7.72-7.72 1.47 1.35L5.41 20z\"/>\n",
              "  </svg>\n",
              "      </button>\n",
              "      \n",
              "  <style>\n",
              "    .colab-df-container {\n",
              "      display:flex;\n",
              "      flex-wrap:wrap;\n",
              "      gap: 12px;\n",
              "    }\n",
              "\n",
              "    .colab-df-convert {\n",
              "      background-color: #E8F0FE;\n",
              "      border: none;\n",
              "      border-radius: 50%;\n",
              "      cursor: pointer;\n",
              "      display: none;\n",
              "      fill: #1967D2;\n",
              "      height: 32px;\n",
              "      padding: 0 0 0 0;\n",
              "      width: 32px;\n",
              "    }\n",
              "\n",
              "    .colab-df-convert:hover {\n",
              "      background-color: #E2EBFA;\n",
              "      box-shadow: 0px 1px 2px rgba(60, 64, 67, 0.3), 0px 1px 3px 1px rgba(60, 64, 67, 0.15);\n",
              "      fill: #174EA6;\n",
              "    }\n",
              "\n",
              "    [theme=dark] .colab-df-convert {\n",
              "      background-color: #3B4455;\n",
              "      fill: #D2E3FC;\n",
              "    }\n",
              "\n",
              "    [theme=dark] .colab-df-convert:hover {\n",
              "      background-color: #434B5C;\n",
              "      box-shadow: 0px 1px 3px 1px rgba(0, 0, 0, 0.15);\n",
              "      filter: drop-shadow(0px 1px 2px rgba(0, 0, 0, 0.3));\n",
              "      fill: #FFFFFF;\n",
              "    }\n",
              "  </style>\n",
              "\n",
              "      <script>\n",
              "        const buttonEl =\n",
              "          document.querySelector('#df-8f6f031c-6acb-4f3e-b70d-4b45180d4de2 button.colab-df-convert');\n",
              "        buttonEl.style.display =\n",
              "          google.colab.kernel.accessAllowed ? 'block' : 'none';\n",
              "\n",
              "        async function convertToInteractive(key) {\n",
              "          const element = document.querySelector('#df-8f6f031c-6acb-4f3e-b70d-4b45180d4de2');\n",
              "          const dataTable =\n",
              "            await google.colab.kernel.invokeFunction('convertToInteractive',\n",
              "                                                     [key], {});\n",
              "          if (!dataTable) return;\n",
              "\n",
              "          const docLinkHtml = 'Like what you see? Visit the ' +\n",
              "            '<a target=\"_blank\" href=https://colab.research.google.com/notebooks/data_table.ipynb>data table notebook</a>'\n",
              "            + ' to learn more about interactive tables.';\n",
              "          element.innerHTML = '';\n",
              "          dataTable['output_type'] = 'display_data';\n",
              "          await google.colab.output.renderOutput(dataTable, element);\n",
              "          const docLink = document.createElement('div');\n",
              "          docLink.innerHTML = docLinkHtml;\n",
              "          element.appendChild(docLink);\n",
              "        }\n",
              "      </script>\n",
              "    </div>\n",
              "  </div>\n",
              "  "
            ]
          },
          "metadata": {},
          "execution_count": 7
        }
      ],
      "source": [
        "# a look at training df\n",
        "df_train.head()"
      ]
    },
    {
      "cell_type": "code",
      "execution_count": 8,
      "metadata": {
        "colab": {
          "base_uri": "https://localhost:8080/"
        },
        "id": "EuMZanNLHxQp",
        "outputId": "38f20acf-eee1-4c72-c685-098439660a25"
      },
      "outputs": [
        {
          "output_type": "stream",
          "name": "stdout",
          "text": [
            "total no of tags are:  63\n"
          ]
        }
      ],
      "source": [
        "# tags a map of ner tag to ner ids\n",
        "tags = '{\"B-Archive\": 0, \"B-CelestialObject\": 1, \"B-CelestialObjectRegion\": 2, \"B-CelestialRegion\": 3, \"B-Citation\": 4, \"B-Collaboration\": 5, \"B-ComputingFacility\": 6, \"B-Database\": 7, \"B-Dataset\": 8, \"B-EntityOfFutureInterest\": 9, \"B-Event\": 10, \"B-Fellowship\": 11, \"B-Formula\": 12, \"B-Grant\": 13, \"B-Identifier\": 14, \"B-Instrument\": 15, \"B-Location\": 16, \"B-Mission\": 17, \"B-Model\": 18, \"B-ObservationalTechniques\": 19, \"B-Observatory\": 20, \"B-Organization\": 21, \"B-Person\": 22, \"B-Proposal\": 23, \"B-Software\": 24, \"B-Survey\": 25, \"B-Tag\": 26, \"B-Telescope\": 27, \"B-TextGarbage\": 28, \"B-URL\": 29, \"B-Wavelength\": 30, \"I-Archive\": 31, \"I-CelestialObject\": 32, \"I-CelestialObjectRegion\": 33, \"I-CelestialRegion\": 34, \"I-Citation\": 35, \"I-Collaboration\": 36, \"I-ComputingFacility\": 37, \"I-Database\": 38, \"I-Dataset\": 39, \"I-EntityOfFutureInterest\": 40, \"I-Event\": 41, \"I-Fellowship\": 42, \"I-Formula\": 43, \"I-Grant\": 44, \"I-Identifier\": 45, \"I-Instrument\": 46, \"I-Location\": 47, \"I-Mission\": 48, \"I-Model\": 49, \"I-ObservationalTechniques\": 50, \"I-Observatory\": 51, \"I-Organization\": 52, \"I-Person\": 53, \"I-Proposal\": 54, \"I-Software\": 55, \"I-Survey\": 56, \"I-Tag\": 57, \"I-Telescope\": 58, \"I-TextGarbage\": 59, \"I-URL\": 60, \"I-Wavelength\": 61, \"O\": 62}'\n",
        "tags = eval(tags)\n",
        "n_tags = len(tags)\n",
        "print(\"total no of tags are: \", n_tags)"
      ]
    },
    {
      "cell_type": "code",
      "execution_count": 9,
      "metadata": {
        "id": "KTNtsx6s-fTX"
      },
      "outputs": [],
      "source": [
        "# instanciate tokenizer filters are removed to avoid removing formulas\n",
        "tokenizer=tf.keras.preprocessing.text.Tokenizer(filters='',lower=True)\n",
        "# fit on training sentences\n",
        "tokenizer.fit_on_texts(df_train['tokens'])"
      ]
    },
    {
      "cell_type": "code",
      "execution_count": 10,
      "metadata": {
        "id": "Ab_klGI--4S3"
      },
      "outputs": [],
      "source": [
        "def tokenize(text):\n",
        "  '''\n",
        "  This function uses tokenizer and convert text to sequences as each token is a \n",
        "  list of its own get the element an add it to token, return token which are the\n",
        "  tokens corresponding to the input sentence\n",
        "  '''\n",
        "  token=[]\n",
        "  tk=tokenizer.texts_to_sequences(text)\n",
        "  for i in tk: \n",
        "    token.append(i[0])\n",
        "  \n",
        "  return token"
      ]
    },
    {
      "cell_type": "code",
      "execution_count": 11,
      "metadata": {
        "id": "ZD8ES9DQB8xX",
        "colab": {
          "base_uri": "https://localhost:8080/"
        },
        "outputId": "f054396f-c695-4bce-c75b-375a0b04f2d5"
      },
      "outputs": [
        {
          "output_type": "execute_result",
          "data": {
            "text/plain": [
              "((1366,), (1753,))"
            ]
          },
          "metadata": {},
          "execution_count": 11
        }
      ],
      "source": [
        "np.array(df_val['tokens']).shape, np.array(df_train['tokens']).shape"
      ]
    },
    {
      "cell_type": "code",
      "execution_count": 12,
      "metadata": {
        "id": "8kyeOWr4Cv6i",
        "colab": {
          "base_uri": "https://localhost:8080/"
        },
        "outputId": "890bfc3c-6468-46c8-dced-ed7df5ef14e6"
      },
      "outputs": [
        {
          "output_type": "execute_result",
          "data": {
            "text/plain": [
              "1366"
            ]
          },
          "metadata": {},
          "execution_count": 12
        }
      ],
      "source": [
        "tk=tokenizer.texts_to_sequences(df_val['tokens'])\n",
        "len(tk)"
      ]
    },
    {
      "cell_type": "code",
      "execution_count": 13,
      "metadata": {
        "id": "YDWcpR0o_s0n"
      },
      "outputs": [],
      "source": [
        "# apply tokenize funtion to both dataframes\n",
        "df_train['token_no']=df_train['tokens'].apply(lambda x:tokenize(x))\n",
        "df_val['token_no']=tokenize(df_val['tokens'])"
      ]
    },
    {
      "cell_type": "code",
      "execution_count": 14,
      "metadata": {
        "id": "7qu1HVda_2_P",
        "colab": {
          "base_uri": "https://localhost:8080/"
        },
        "outputId": "392dfe93-e44f-49ea-957a-e4c60f62cba0"
      },
      "outputs": [
        {
          "output_type": "execute_result",
          "data": {
            "text/plain": [
              "['df_val.pkl']"
            ]
          },
          "metadata": {},
          "execution_count": 14
        }
      ],
      "source": [
        "# save tokenizer and the two dataframes for easy reuse\n",
        "joblib.dump(tokenizer,'tokenizer.pkl')\n",
        "joblib.dump(df_train,'df_train.pkl')\n",
        "joblib.dump(df_val,'df_val.pkl')"
      ]
    },
    {
      "cell_type": "markdown",
      "metadata": {
        "id": "k9QCeU1IMueK"
      },
      "source": [
        "## Performing EDA to get insights from the data"
      ]
    },
    {
      "cell_type": "code",
      "execution_count": 15,
      "metadata": {
        "id": "KVcl-LuFMv0D"
      },
      "outputs": [],
      "source": [
        "# calculating most frequent tags\n",
        "no_top_tags=20\n",
        "tag_dict={k:0 for k in tags.keys()}\n",
        "top_tags={}\n",
        "for entry in df_train['ner_tags']:\n",
        "  for i in entry:\n",
        "    tag_dict[i]+=1\n",
        "for k,v in sorted(tag_dict.items(), key=lambda kv: kv[1],reverse=True)[1:no_top_tags+1]:\n",
        "  top_tags[k]=v"
      ]
    },
    {
      "cell_type": "code",
      "execution_count": 16,
      "metadata": {
        "colab": {
          "base_uri": "https://localhost:8080/",
          "height": 522
        },
        "id": "aYdaNCsnMxTq",
        "outputId": "43a09883-0aee-4346-9ba8-dd329c769fd8"
      },
      "outputs": [
        {
          "output_type": "display_data",
          "data": {
            "text/plain": [
              "<Figure size 800x480 with 1 Axes>"
            ],
            "image/png": "[encoded data removed]"
          },
          "metadata": {
            "needs_background": "light"
          }
        }
      ],
      "source": [
        "# plotting most occuring tags\n",
        "plt.figure(figsize=(10, 6), dpi=80)\n",
        "plt.title('Most occuring tags')\n",
        "plt.bar(top_tags.keys(),top_tags.values(),color='#66cc00')\n",
        "plt.xlabel('Tags')\n",
        "plt.ylabel('Frequency')\n",
        "plt.xticks(rotation = 60)\n",
        "plt.show()"
      ]
    },
    {
      "cell_type": "markdown",
      "source": [
        "The most occuring tag was the 'O' tag we have to remove it beacuse it was very high in distribution, maing it harder to visualise the distribution of other ner tags"
      ],
      "metadata": {
        "id": "0P9PJoLxmEJd"
      }
    },
    {
      "cell_type": "code",
      "execution_count": 17,
      "metadata": {
        "id": "pa0uga-uRBr0"
      },
      "outputs": [],
      "source": [
        "sentence_len=[len(entry) for entry in df_train['tokens']]"
      ]
    },
    {
      "cell_type": "code",
      "execution_count": 18,
      "metadata": {
        "colab": {
          "base_uri": "https://localhost:8080/",
          "height": 383
        },
        "id": "p8tpXSDCRDUU",
        "outputId": "2e58acce-6f8b-417c-99d1-f8c9c06f5dc5"
      },
      "outputs": [
        {
          "output_type": "display_data",
          "data": {
            "text/plain": [
              "<Figure size 640x400 with 1 Axes>"
            ],
            "image/png": "[encoded data removed]"
          },
          "metadata": {
            "needs_background": "light"
          }
        }
      ],
      "source": [
        "plt.figure(figsize=(8, 5), dpi=80)\n",
        "plt.hist(sentence_len,bins=80,alpha=0.8,color='#00cccc')\n",
        "plt.title('Distribution of sentence lengths')\n",
        "plt.xlabel('Length of sentence')\n",
        "plt.ylabel('Frequency')\n",
        "plt.show()"
      ]
    },
    {
      "cell_type": "markdown",
      "metadata": {
        "id": "Fe_RiNfFy4f9"
      },
      "source": [
        "## Data Pipelining"
      ]
    },
    {
      "cell_type": "code",
      "execution_count": 19,
      "metadata": {
        "id": "d9R15Xqnxg0C"
      },
      "outputs": [],
      "source": [
        "X_train = df_train['token_no'].values\n",
        "y_train = df_train['ner_ids'].values"
      ]
    },
    {
      "cell_type": "code",
      "execution_count": 20,
      "metadata": {
        "id": "-XHgoq_VPKvT"
      },
      "outputs": [],
      "source": [
        "X_train, X_val, y_train, y_val = train_test_split(X_train, y_train, train_size=0.8, random_state=0)"
      ]
    },
    {
      "cell_type": "code",
      "execution_count": 21,
      "metadata": {
        "colab": {
          "base_uri": "https://localhost:8080/"
        },
        "id": "MtAZE8wDOvUS",
        "outputId": "df284088-6cee-434b-b984-46efd445a732"
      },
      "outputs": [
        {
          "output_type": "stream",
          "name": "stdout",
          "text": [
            "maximum length of a sentnce is: 795\n"
          ]
        }
      ],
      "source": [
        "max_len = max([len(sent) for sent in X_train])\n",
        "print(f\"maximum length of a sentance is: {max_len}\")"
      ]
    },
    {
      "cell_type": "code",
      "execution_count": 22,
      "metadata": {
        "id": "Q-4OMDZUO8rT"
      },
      "outputs": [],
      "source": [
        "X_train = pad_sequences(\n",
        "    X_train,\n",
        "    padding='post',\n",
        "    value=0.0)\n",
        "\n",
        "X_val = pad_sequences(\n",
        "    X_val,\n",
        "    maxlen=max_len,\n",
        "    padding='post',\n",
        "    value=0.0)"
      ]
    },
    {
      "cell_type": "code",
      "execution_count": 23,
      "metadata": {
        "id": "ASZwpkaRO_Fa"
      },
      "outputs": [],
      "source": [
        "# paddding with the index of the tag 'O'\n",
        "y_train = pad_sequences(\n",
        "    y_train,\n",
        "    padding='post',\n",
        "    value = tags['O'])\n",
        "\n",
        "y_val = pad_sequences(\n",
        "    y_val,\n",
        "    maxlen=max_len,\n",
        "    padding='post',\n",
        "    value = tags['O'])"
      ]
    },
    {
      "cell_type": "code",
      "execution_count": 24,
      "metadata": {
        "id": "8511-dulPUy9"
      },
      "outputs": [],
      "source": [
        "y_train = [to_categorical(sent, n_tags) for sent in y_train]\n",
        "y_val = [to_categorical(sent, n_tags) for sent in y_val]"
      ]
    },
    {
      "cell_type": "code",
      "execution_count": 25,
      "metadata": {
        "id": "z_jI9Jj-PaAh"
      },
      "outputs": [],
      "source": [
        "batch_size = 64\n",
        "train_shuffle_buffer_size = len(X_train)\n",
        "test_shuffle_buffer_size = len(X_val)\n",
        "\n",
        "# Create TF Dataset\n",
        "train_data = tf.data.Dataset.from_tensor_slices((X_train, y_train))\n",
        "AUTOTUNE = tf.data.experimental.AUTOTUNE\n",
        "train_data = train_data.shuffle(buffer_size=train_shuffle_buffer_size)\n",
        "train_data = train_data.batch(batch_size)\n",
        "train_data = train_data.prefetch(AUTOTUNE)\n",
        "\n",
        "val_data = tf.data.Dataset.from_tensor_slices((X_val, y_val))\n",
        "val_data = val_data.shuffle(buffer_size=test_shuffle_buffer_size)\n",
        "val_data = val_data.batch(batch_size)\n",
        "val_data = val_data.prefetch(AUTOTUNE)"
      ]
    },
    {
      "cell_type": "code",
      "source": [
        "vocabulary = len(tokenizer.index_word.keys())\n",
        "print(f\"Total vobcabulary size is (inluding UNK): {vocabulary + 1}\")"
      ],
      "metadata": {
        "id": "3huIE79qCb_M",
        "colab": {
          "base_uri": "https://localhost:8080/"
        },
        "outputId": "6cb37fb6-64ad-437b-eb21-1f0b907ff358"
      },
      "execution_count": 26,
      "outputs": [
        {
          "output_type": "stream",
          "name": "stdout",
          "text": [
            "Total vobcabulary size is (inluding UNK): 45754\n"
          ]
        }
      ]
    },
    {
      "cell_type": "markdown",
      "source": [
        "# Modelling the data\n",
        "After preprocesiing the datset now it's time for modelling the data, to get good model for named entity recognition problem"
      ],
      "metadata": {
        "id": "VWJ6inCLaxVV"
      }
    },
    {
      "cell_type": "markdown",
      "source": [
        "## 1. Vanilla 2 stack LSTM"
      ],
      "metadata": {
        "id": "VGBgeXRMa0SI"
      }
    },
    {
      "cell_type": "markdown",
      "source": [
        "This model comprises of:\n",
        "\n",
        "1) An embedding layer, with the embedding size set to 128 and vocabulary equal to 45754.\n",
        "\n",
        "2) after that there are two LSTM layers stacked on top of each other, in the last layer we have also set the return sequences to True, because of time distributed layer to get many to many outputs\n",
        "\n",
        "3) The last layer TimeDistrbutedLayer, which is applied on a dense layer with relu activation, this layers gives output word by word for a sequence rather then giving one single output at the end of a sequence. As we are trying to solve a many to many problem because each word will be having one tag out of 67 associated with it in a sequence."
      ],
      "metadata": {
        "id": "daepWeN_bC0E"
      }
    },
    {
      "cell_type": "code",
      "source": [
        "inputs = Input(max_len)\n",
        "x = Embedding(vocabulary + 1, 128, mask_zero=True)(inputs)\n",
        "x = LSTM(100, return_sequences=True)(x)\n",
        "x = LSTM(100, return_sequences=True)(x)\n",
        "outputs = TimeDistributed(Dense(n_tags, activation=\"softmax\"))(x)\n",
        "model = tf.keras.Model(inputs, outputs)\n",
        "model.summary()"
      ],
      "metadata": {
        "colab": {
          "base_uri": "https://localhost:8080/"
        },
        "id": "CiVRlZDgCfdb",
        "outputId": "0b11c8c0-be8a-4f18-e936-1a1f7da91148"
      },
      "execution_count": 209,
      "outputs": [
        {
          "output_type": "stream",
          "name": "stdout",
          "text": [
            "Model: \"model\"\n",
            "_________________________________________________________________\n",
            " Layer (type)                Output Shape              Param #   \n",
            "=================================================================\n",
            " input_18 (InputLayer)       [(None, 795)]             0         \n",
            "                                                                 \n",
            " embedding (Embedding)       (None, 795, 128)          5856512   \n",
            "                                                                 \n",
            " lstm (LSTM)                 (None, 795, 100)          91600     \n",
            "                                                                 \n",
            " lstm_1 (LSTM)               (None, 795, 100)          80400     \n",
            "                                                                 \n",
            " time_distributed (TimeDistr  (None, 795, 63)          6363      \n",
            " ibuted)                                                         \n",
            "                                                                 \n",
            "=================================================================\n",
            "Total params: 6,034,875\n",
            "Trainable params: 6,034,875\n",
            "Non-trainable params: 0\n",
            "_________________________________________________________________\n"
          ]
        }
      ]
    },
    {
      "cell_type": "code",
      "source": [
        "model.compile(loss='categorical_crossentropy', optimizer='adam', metrics=['accuracy'])\n",
        "es = keras.callbacks.EarlyStopping(monitor='val_accuracy', mode='max', patience=8, restore_best_weights=True, verbose=1)\n",
        "history = model.fit(train_data, validation_data=val_data, epochs=50, callbacks=es)"
      ],
      "metadata": {
        "colab": {
          "base_uri": "https://localhost:8080/"
        },
        "id": "V6si8BxfCy_Y",
        "outputId": "a479a63c-85d7-43b7-93cf-9cc5515ca442"
      },
      "execution_count": 215,
      "outputs": [
        {
          "output_type": "stream",
          "name": "stdout",
          "text": [
            "Epoch 1/50\n",
            "22/22 [==============================] - 14s 232ms/step - loss: 0.4371 - accuracy: 0.8247 - val_loss: 0.4140 - val_accuracy: 0.8214\n",
            "Epoch 2/50\n",
            "22/22 [==============================] - 2s 95ms/step - loss: 0.4221 - accuracy: 0.8247 - val_loss: 0.4067 - val_accuracy: 0.8214\n",
            "Epoch 3/50\n",
            "22/22 [==============================] - 2s 96ms/step - loss: 0.4156 - accuracy: 0.8247 - val_loss: 0.3980 - val_accuracy: 0.8214\n",
            "Epoch 4/50\n",
            "22/22 [==============================] - 2s 95ms/step - loss: 0.3966 - accuracy: 0.8242 - val_loss: 0.3656 - val_accuracy: 0.8212\n",
            "Epoch 5/50\n",
            "22/22 [==============================] - 2s 95ms/step - loss: 0.3474 - accuracy: 0.8242 - val_loss: 0.3135 - val_accuracy: 0.8260\n",
            "Epoch 6/50\n",
            "22/22 [==============================] - 2s 96ms/step - loss: 0.3011 - accuracy: 0.8423 - val_loss: 0.2866 - val_accuracy: 0.8428\n",
            "Epoch 7/50\n",
            "22/22 [==============================] - 2s 97ms/step - loss: 0.2750 - accuracy: 0.8480 - val_loss: 0.2710 - val_accuracy: 0.8443\n",
            "Epoch 8/50\n",
            "22/22 [==============================] - 2s 95ms/step - loss: 0.2567 - accuracy: 0.8516 - val_loss: 0.2595 - val_accuracy: 0.8469\n",
            "Epoch 9/50\n",
            "22/22 [==============================] - 2s 96ms/step - loss: 0.2424 - accuracy: 0.8586 - val_loss: 0.2492 - val_accuracy: 0.8575\n",
            "Epoch 10/50\n",
            "22/22 [==============================] - 2s 97ms/step - loss: 0.2301 - accuracy: 0.8680 - val_loss: 0.2403 - val_accuracy: 0.8637\n",
            "Epoch 11/50\n",
            "22/22 [==============================] - 2s 95ms/step - loss: 0.2188 - accuracy: 0.8748 - val_loss: 0.2318 - val_accuracy: 0.8696\n",
            "Epoch 12/50\n",
            "22/22 [==============================] - 2s 97ms/step - loss: 0.2080 - accuracy: 0.8835 - val_loss: 0.2270 - val_accuracy: 0.8717\n",
            "Epoch 13/50\n",
            "22/22 [==============================] - 2s 96ms/step - loss: 0.1974 - accuracy: 0.8892 - val_loss: 0.2178 - val_accuracy: 0.8739\n",
            "Epoch 14/50\n",
            "22/22 [==============================] - 2s 97ms/step - loss: 0.1887 - accuracy: 0.8921 - val_loss: 0.2112 - val_accuracy: 0.8755\n",
            "Epoch 15/50\n",
            "22/22 [==============================] - 2s 96ms/step - loss: 0.1790 - accuracy: 0.8955 - val_loss: 0.2079 - val_accuracy: 0.8761\n",
            "Epoch 16/50\n",
            "22/22 [==============================] - 2s 98ms/step - loss: 0.1716 - accuracy: 0.8994 - val_loss: 0.2027 - val_accuracy: 0.8776\n",
            "Epoch 17/50\n",
            "22/22 [==============================] - 2s 94ms/step - loss: 0.1651 - accuracy: 0.9023 - val_loss: 0.2008 - val_accuracy: 0.8772\n",
            "Epoch 18/50\n",
            "22/22 [==============================] - 2s 95ms/step - loss: 0.1608 - accuracy: 0.9035 - val_loss: 0.2057 - val_accuracy: 0.8772\n",
            "Epoch 19/50\n",
            "22/22 [==============================] - 2s 96ms/step - loss: 0.1573 - accuracy: 0.9053 - val_loss: 0.1977 - val_accuracy: 0.8786\n",
            "Epoch 20/50\n",
            "22/22 [==============================] - 2s 97ms/step - loss: 0.1503 - accuracy: 0.9091 - val_loss: 0.1973 - val_accuracy: 0.8797\n",
            "Epoch 21/50\n",
            "22/22 [==============================] - 2s 95ms/step - loss: 0.1451 - accuracy: 0.9122 - val_loss: 0.1989 - val_accuracy: 0.8801\n",
            "Epoch 22/50\n",
            "22/22 [==============================] - 2s 96ms/step - loss: 0.1407 - accuracy: 0.9154 - val_loss: 0.1984 - val_accuracy: 0.8808\n",
            "Epoch 23/50\n",
            "22/22 [==============================] - 2s 95ms/step - loss: 0.1371 - accuracy: 0.9177 - val_loss: 0.2005 - val_accuracy: 0.8808\n",
            "Epoch 24/50\n",
            "22/22 [==============================] - 2s 95ms/step - loss: 0.1371 - accuracy: 0.9186 - val_loss: 0.1989 - val_accuracy: 0.8794\n",
            "Epoch 25/50\n",
            "22/22 [==============================] - 2s 96ms/step - loss: 0.1324 - accuracy: 0.9209 - val_loss: 0.2022 - val_accuracy: 0.8816\n",
            "Epoch 26/50\n",
            "22/22 [==============================] - 2s 97ms/step - loss: 0.1284 - accuracy: 0.9239 - val_loss: 0.2026 - val_accuracy: 0.8828\n",
            "Epoch 27/50\n",
            "22/22 [==============================] - 2s 96ms/step - loss: 0.1251 - accuracy: 0.9265 - val_loss: 0.2056 - val_accuracy: 0.8823\n",
            "Epoch 28/50\n",
            "22/22 [==============================] - 2s 95ms/step - loss: 0.1226 - accuracy: 0.9283 - val_loss: 0.2065 - val_accuracy: 0.8821\n",
            "Epoch 29/50\n",
            "22/22 [==============================] - 2s 96ms/step - loss: 0.1201 - accuracy: 0.9295 - val_loss: 0.2092 - val_accuracy: 0.8826\n",
            "Epoch 30/50\n",
            "22/22 [==============================] - 2s 94ms/step - loss: 0.1175 - accuracy: 0.9313 - val_loss: 0.2098 - val_accuracy: 0.8827\n",
            "Epoch 31/50\n",
            "22/22 [==============================] - 2s 96ms/step - loss: 0.1147 - accuracy: 0.9327 - val_loss: 0.2119 - val_accuracy: 0.8813\n",
            "Epoch 32/50\n",
            "22/22 [==============================] - 2s 96ms/step - loss: 0.1122 - accuracy: 0.9339 - val_loss: 0.2130 - val_accuracy: 0.8793\n",
            "Epoch 33/50\n",
            "22/22 [==============================] - 2s 96ms/step - loss: 0.1100 - accuracy: 0.9350 - val_loss: 0.2175 - val_accuracy: 0.8806\n",
            "Epoch 34/50\n",
            "22/22 [==============================] - ETA: 0s - loss: 0.1073 - accuracy: 0.9365Restoring model weights from the end of the best epoch: 26.\n",
            "22/22 [==============================] - 2s 97ms/step - loss: 0.1073 - accuracy: 0.9365 - val_loss: 0.2178 - val_accuracy: 0.8798\n",
            "Epoch 34: early stopping\n"
          ]
        }
      ]
    },
    {
      "cell_type": "code",
      "source": [
        "n_epochs = len(history.history['accuracy'])\n",
        "plt.plot(range(1, n_epochs + 1), history.history['accuracy'],  marker = 'o', markeredgecolor='k', label='training accuracy')\n",
        "plt.plot(range(1, n_epochs + 1), history.history['val_accuracy'],  marker = 'o', markeredgecolor='k', label='validation accuracy')\n",
        "plt.legend(loc='best')\n",
        "plt.xticks(range(1, n_epochs+1, 3))\n",
        "plt.title(\"Epochs vs accuracy\")\n",
        "plt.xlabel('epoch')\n",
        "plt.ylabel('accuracy')\n",
        "plt.show()"
      ],
      "metadata": {
        "colab": {
          "base_uri": "https://localhost:8080/",
          "height": 295
        },
        "id": "JW7k6hB9YtCJ",
        "outputId": "0891d8f3-6727-4e6f-f62b-9b9e7305715b"
      },
      "execution_count": 216,
      "outputs": [
        {
          "output_type": "display_data",
          "data": {
            "text/plain": [
              "<Figure size 432x288 with 1 Axes>"
            ],
            "image/png": "[encoded data removed]"
          },
          "metadata": {
            "needs_background": "light"
          }
        }
      ]
    },
    {
      "cell_type": "code",
      "source": [
        "plt.plot(range(1, n_epochs + 1), history.history['loss'],  marker = 'o', markeredgecolor='k', label='training accuracy')\n",
        "plt.plot(range(1, n_epochs + 1), history.history['val_loss'],  marker = 'o', markeredgecolor='k', label='validation accuracy')\n",
        "plt.legend(loc='best')\n",
        "plt.xticks(range(1, n_epochs+1, 3))\n",
        "plt.title(\"Epochs vs loss\")\n",
        "plt.xlabel('epoch')\n",
        "plt.ylabel('loss')\n",
        "plt.show()"
      ],
      "metadata": {
        "colab": {
          "base_uri": "https://localhost:8080/",
          "height": 295
        },
        "id": "7wU5sKrecmE8",
        "outputId": "c8617b22-fe4e-429c-e89c-a46cae71cf4b"
      },
      "execution_count": 217,
      "outputs": [
        {
          "output_type": "display_data",
          "data": {
            "text/plain": [
              "<Figure size 432x288 with 1 Axes>"
            ],
            "image/png": "[encoded data removed]"
          },
          "metadata": {
            "needs_background": "light"
          }
        }
      ]
    },
    {
      "cell_type": "code",
      "source": [
        "loss1, accuracy1 = model.evaluate(val_data)\n",
        "print(f\"\\n\\nModel with 2 stack vanilla lst model is giving: \\naccuracy: {accuracy1:.3f}\\nloss: {loss1:.3f}\")"
      ],
      "metadata": {
        "colab": {
          "base_uri": "https://localhost:8080/"
        },
        "id": "9zjIC7eOaywH",
        "outputId": "eb51ed19-5f2d-43bf-e63a-506ccb9222da"
      },
      "execution_count": 218,
      "outputs": [
        {
          "output_type": "stream",
          "name": "stdout",
          "text": [
            "6/6 [==============================] - 0s 40ms/step - loss: 0.2026 - accuracy: 0.8828\n",
            "\n",
            "\n",
            "Model with 2 stack vanilla lst model is giving: \n",
            "accuracy: 0.883\n",
            "loss: 0.203\n"
          ]
        }
      ]
    },
    {
      "cell_type": "code",
      "source": [
        "#making one sample from validatoin_data\n",
        "x, y = next(iter(val_data.take(1)))\n",
        "sample_x, sample_true_y = x[0], y[0]\n",
        "print(f\"Size of 1 sample from validation data is (x and y): {sample_x.shape, sample_true_y.shape}\")"
      ],
      "metadata": {
        "colab": {
          "base_uri": "https://localhost:8080/"
        },
        "id": "xZ9TyTDgefVQ",
        "outputId": "3b9ce2fd-6704-49e4-960f-ccb680dcec48"
      },
      "execution_count": 220,
      "outputs": [
        {
          "output_type": "stream",
          "name": "stdout",
          "text": [
            "Size of 1 sample from validation data is (x and y): (TensorShape([795]), TensorShape([795, 63]))\n"
          ]
        }
      ]
    },
    {
      "cell_type": "code",
      "source": [
        "#⚠️dependency on tokenizer created above, and tags dictionary\n",
        "def print_senttags(sample_X, sample_true_y):\n",
        "  '''\n",
        "  args:\n",
        "    sample_x: tokenized sentance\n",
        "    sample_true_y: one hot encoded or softmaxed ner tags (shoul be of shape [len(sample_x), 63]) \n",
        "  '''\n",
        "  print(\"sample token to word(padded tokens are skipped) with there corresponding tag (except for 'O' tag): \\n\\n\")\n",
        "  reverse_tags = {id_:tag for tag, id_ in tags.items()}\n",
        "  sentance = tokenizer.sequences_to_texts([sample_x.numpy()])[0].split()\n",
        "  ner_tags = [np.argmax(vec) for vec in sample_true_y][:len(sentance)]\n",
        "  assert len(ner_tags) == len(sentance)\n",
        "  sentances_with_tag = ' '.join([sent if tag_id == 62 else f'{sent}[{reverse_tags[tag_id]}]' for sent, tag_id in zip(sentance, ner_tags)])\n",
        "  return sentances_with_tag"
      ],
      "metadata": {
        "id": "AtXvJyBHgnnN"
      },
      "execution_count": 221,
      "outputs": []
    },
    {
      "cell_type": "code",
      "source": [
        "pred_y = model.predict(np.expand_dims(sample_x, 0))[0]"
      ],
      "metadata": {
        "id": "XLck-KqZmNK7",
        "colab": {
          "base_uri": "https://localhost:8080/"
        },
        "outputId": "cbd59c22-8016-4031-c394-577a98465fda"
      },
      "execution_count": 222,
      "outputs": [
        {
          "output_type": "stream",
          "name": "stdout",
          "text": [
            "WARNING:tensorflow:6 out of the last 1437 calls to <function Model.make_predict_function.<locals>.predict_function at 0x7fc2f46faef0> triggered tf.function retracing. Tracing is expensive and the excessive number of tracings could be due to (1) creating @tf.function repeatedly in a loop, (2) passing tensors with different shapes, (3) passing Python objects instead of tensors. For (1), please define your @tf.function outside of the loop. For (2), @tf.function has experimental_relax_shapes=True option that relaxes argument shapes that can avoid unnecessary retracing. For (3), please refer to https://www.tensorflow.org/guide/function#controlling_retracing and https://www.tensorflow.org/api_docs/python/tf/function for  more details.\n"
          ]
        },
        {
          "output_type": "stream",
          "name": "stderr",
          "text": [
            "WARNING:tensorflow:6 out of the last 1437 calls to <function Model.make_predict_function.<locals>.predict_function at 0x7fc2f46faef0> triggered tf.function retracing. Tracing is expensive and the excessive number of tracings could be due to (1) creating @tf.function repeatedly in a loop, (2) passing tensors with different shapes, (3) passing Python objects instead of tensors. For (1), please define your @tf.function outside of the loop. For (2), @tf.function has experimental_relax_shapes=True option that relaxes argument shapes that can avoid unnecessary retracing. For (3), please refer to https://www.tensorflow.org/guide/function#controlling_retracing and https://www.tensorflow.org/api_docs/python/tf/function for  more details.\n"
          ]
        }
      ]
    },
    {
      "cell_type": "code",
      "source": [
        "sample_true_y.shape"
      ],
      "metadata": {
        "colab": {
          "base_uri": "https://localhost:8080/"
        },
        "id": "aBh3kUn_mmmx",
        "outputId": "7d23a642-51fd-4a27-ef55-c3711422e1f8"
      },
      "execution_count": 223,
      "outputs": [
        {
          "output_type": "execute_result",
          "data": {
            "text/plain": [
              "TensorShape([795, 63])"
            ]
          },
          "metadata": {},
          "execution_count": 223
        }
      ]
    },
    {
      "cell_type": "code",
      "source": [
        "#actual ner tags\n",
        "print_senttags(sample_x, sample_true_y)"
      ],
      "metadata": {
        "colab": {
          "base_uri": "https://localhost:8080/",
          "height": 221
        },
        "id": "0Zb_aAmAkoAZ",
        "outputId": "a9db1109-4408-49a4-f267-06f5cc67cddf"
      },
      "execution_count": 224,
      "outputs": [
        {
          "output_type": "stream",
          "name": "stdout",
          "text": [
            "sample token to word(padded tokens are skipped) with there corresponding tag (except for 'O' tag): \n",
            "\n",
            "\n"
          ]
        },
        {
          "output_type": "execute_result",
          "data": {
            "text/plain": [
              "'( 16 ), the br emissivity in the classical limit then reads where p min is the minimal electron momentum that is required to produce a photon of energy ω[B-Formula] =[I-Formula] h[I-Formula] ν/[I-Formula] m[I-Formula] e[I-Formula] c[I-Formula] 2[I-Formula] . this is determined by ω[B-Formula] =[I-Formula] γ[I-Formula] min[I-Formula] −[I-Formula] 1,[I-Formula] which yields . in the last step of equation ( 17 ), we used a non-relativistic[B-Model] maxwell–boltzmann[I-Model] distribution[I-Model] function,[I-Model] with dimensionless electron temperature θ[B-Formula] e[I-Formula] =[I-Formula] kt[I-Formula] e[I-Formula] /[I-Formula] m[I-Formula] e[I-Formula] c[I-Formula] 2[I-Formula] to carry out the integral. the above expressions explicitly assume p[B-Formula] 1[I-Formula] ,[I-Formula] ω[I-Formula] ≪[I-Formula] 1.[I-Formula] even without quantum corrections, to generalize the kramers[B-Model] approximation[I-Model] to higher temperatures/energies, we shall use the relativistic[B-Model] maxwell–boltzmann[I-Model] distribution[I-Model] function[I-Model] where k 2 ( x ) is the modified bessel function of second kind. 9 we also keep the full relativistic expression for and furthermore realize that at low frequencies the overall br cross-section scales as towards higher electron energies (see the discussion about bethe–heitler[B-Model] limit).[I-Model] thus, after multiplying the kramers[B-Model] approximation,[I-Model] equation (2), by and carrying out the thermal average with the above modification, we have the relativistically improved kramers[B-Model] approximation[I-Model] for the br emissivity: this shows that in the classical treatment the improved asymptotic scales as for low temperatures. the origin of this correction is not quantum-mechanical but simply due to special relativistic effects. this modification absorbs the leading order corrections towards the bh limit, as we discuss next. we also mention that in equation (19) the temperature-dependent factor, is directly related to the differences in the normalization of the non-relativistic[B-Model] and relativistic[B-Model] maxwell–boltzmann[I-Model] distributions.[I-Model] at high temperatures, the corrections can become sizable, giving at and at , and thus should be taken into account for accurate calculations. 4.2 definition of thermally averaged gaunt factors the main quantity that enters the br emission term in the photon boltzmann[B-Model] equation,[I-Model] as well as the electron temperature evolution equation, is the thermally averaged gaunt factor. it can be simply obtained by comparing the total plasma emissivity with the emissivity in the kramers[B-Model] limit[I-Model] and is usually computed as in the last step, we explicitly assumed that the electrons follow a non-degenerate,[B-Model] relativistic[I-Model] maxwell–boltzmann[I-Model] distribution.[I-Model] 10 in the non-relativistic limit (γ[B-Formula] 1[I-Formula] ≃[I-Formula] 1),[I-Formula] equation ( 21 ) is a very good choice. however, for p[B-Formula] 1[I-Formula] ≳[I-Formula] 1,[I-Formula] the gaunt factor scales at low frequencies (see section 2.3 ). it is thus useful to multiply the kramers cross-section by , which then yields a slightly modified definition for the br gaunt factor: this redefinition reduces the dynamic range of the gaunt factor and is thus very useful for compressing the data in tabulations. the final br emission term then takes the form where is given by equation ( 19b ) and by equation ( 20 ). both definitions, of course, give exactly the same answer for the overall br emission term. nevertheless, in applications, is beneficial since it does not scale as'"
            ],
            "application/vnd.google.colaboratory.intrinsic+json": {
              "type": "string"
            }
          },
          "metadata": {},
          "execution_count": 224
        }
      ]
    },
    {
      "cell_type": "code",
      "source": [
        "print_senttags(sample_x, pred_y)"
      ],
      "metadata": {
        "colab": {
          "base_uri": "https://localhost:8080/",
          "height": 221
        },
        "id": "8ddEUiTRkqI7",
        "outputId": "bc0843c3-ac5d-40e8-979e-7f76aabc2cdc"
      },
      "execution_count": 225,
      "outputs": [
        {
          "output_type": "stream",
          "name": "stdout",
          "text": [
            "sample token to word(padded tokens are skipped) with there corresponding tag (except for 'O' tag): \n",
            "\n",
            "\n"
          ]
        },
        {
          "output_type": "execute_result",
          "data": {
            "text/plain": [
              "'( 16 ), the br emissivity in the classical limit then reads where p min is the minimal electron momentum that is required to produce a photon of energy ω = h ν/ m e c 2 . this is determined by ω = γ[I-Formula] min[I-Formula] − 1, which yields . in the last step of equation ( 17 ), we used a non-relativistic maxwell–boltzmann distribution function, with dimensionless electron temperature θ e[I-Formula] =[I-Formula] kt[I-Formula] e[I-Formula] /[I-Formula] m[I-Formula] e[I-Formula] c[I-Formula] 2[I-Formula] to carry out the integral. the above expressions explicitly assume p 1 , ω ≪[I-Formula] 1.[I-Formula] even without quantum corrections, to generalize the kramers approximation to higher temperatures/energies,[I-Formula] we shall use the relativistic maxwell–boltzmann distribution function where k 2 ( x[I-Formula] ) is the modified bessel function of second kind. 9 we also keep the full relativistic expression for and furthermore realize that at low frequencies the overall br cross-section scales as towards higher electron energies (see the discussion about bethe–heitler limit). thus, after multiplying the kramers approximation, equation (2), by and carrying out the thermal average with the above modification, we have the relativistically improved kramers[B-CelestialObject] approximation[I-Formula] for the br[B-Citation] emissivity:[I-Formula] this shows that in the classical treatment the improved asymptotic scales as for low temperatures. the origin of this correction is not quantum-mechanical but simply due to special relativistic effects. this modification absorbs the leading order corrections towards the bh limit, as we discuss next. we also mention that in equation (19) the temperature-dependent factor, is directly related to the differences in the normalization of the non-relativistic and relativistic maxwell–boltzmann distributions. at high temperatures, the corrections can become sizable, giving at and at , and thus should be taken into account for accurate calculations. 4.2 definition of thermally averaged gaunt factors the main quantity that enters the br emission term in the photon boltzmann equation, as well as the electron temperature evolution equation, is the thermally averaged gaunt factor. it can be simply obtained by comparing the total plasma emissivity with the emissivity in the kramers limit and is usually computed as in the last step, we explicitly assumed that the electrons follow a non-degenerate, relativistic[I-Formula] maxwell–boltzmann[I-Formula] distribution. 10 in the non-relativistic limit (γ[B-Citation] 1[I-Formula] ≃[I-Formula] 1),[I-Formula] equation ( 21 ) is a very good choice. however, for p 1 ≳ 1, the gaunt factor scales at low frequencies (see section 2.3 ). it is thus useful to multiply the kramers cross-section by , which then yields a slightly modified definition for the br gaunt factor:[I-Formula] this redefinition reduces the dynamic range of the gaunt factor and is thus very useful for compressing the data in tabulations. the final br[I-Formula] emission term then takes the form where is given by equation ( 19b ) and by equation ( 20 ). both definitions, of course, give exactly the same answer for the overall br emission term. nevertheless, in applications, is beneficial since it does not scale as'"
            ],
            "application/vnd.google.colaboratory.intrinsic+json": {
              "type": "string"
            }
          },
          "metadata": {},
          "execution_count": 225
        }
      ]
    },
    {
      "cell_type": "markdown",
      "source": [
        "We can see that the model is giving good accuracy and better prediction of ner tags (enclosed inside [] brackets), but we can perform better by using models which can perform much better then this below.\n",
        "\n"
      ],
      "metadata": {
        "id": "YhFd6R0Bm6QR"
      }
    },
    {
      "cell_type": "markdown",
      "source": [
        "## 2. lstm and bidirectional lstm stacked model with word 2 vec embeddings."
      ],
      "metadata": {
        "id": "f-NfUIcTnErt"
      }
    },
    {
      "cell_type": "markdown",
      "source": [
        "### 2.1 training our own Word2vec moel to get embeddings"
      ],
      "metadata": {
        "id": "LYcJOurGCHgs"
      }
    },
    {
      "cell_type": "code",
      "source": [
        "continous_data =[]\n",
        "for i in df_train['token_no'].values:\n",
        "  continous_data+=i"
      ],
      "metadata": {
        "id": "HsO8AdAUCLZ-"
      },
      "execution_count": 65,
      "outputs": []
    },
    {
      "cell_type": "code",
      "source": [
        "sampling_table=sequence.make_sampling_table(vocabulary+1)\n",
        "couples,labels=sequence.skipgrams(continous_data,vocabulary+1,window_size=3,sampling_table=sampling_table,seed=43)\n",
        "del continous_data"
      ],
      "metadata": {
        "id": "ixxgOx2dDwNn"
      },
      "execution_count": 66,
      "outputs": []
    },
    {
      "cell_type": "code",
      "source": [
        "words,context=zip(*couples)\n",
        "words=np.array(words)\n",
        "context=np.array(context)\n",
        "labels=np.array(labels)"
      ],
      "metadata": {
        "id": "xjWECkN0D-LX"
      },
      "execution_count": 67,
      "outputs": []
    },
    {
      "cell_type": "code",
      "source": [
        "emb_size=128"
      ],
      "metadata": {
        "id": "NZepWF9MD-cC"
      },
      "execution_count": 69,
      "outputs": []
    },
    {
      "cell_type": "markdown",
      "source": [
        "Our mode architecture inlcudes:\n",
        "\n",
        "1) one embedding layer, whose trained weights will be used for our bidirecinal lstm model\n",
        "\n",
        "2) one more embedding layer(context embeddings) these are used to find the word embeddings efficiently, as embedding of a context word with the output of above layer should have dot product close to 0\n",
        "\n",
        "3) at the end we have a dot product layer, to compute dot product between embedding from word and contexts embeddings"
      ],
      "metadata": {
        "id": "ynSlqpGUvHhh"
      }
    },
    {
      "cell_type": "code",
      "source": [
        "word_model = Sequential() \n",
        "word_model.add(Embedding(vocabulary+1, emb_size, input_length=1,name='Embedding')) \n",
        "word_model.add(Reshape((emb_size, )))\n",
        "\n",
        "context_model = Sequential() \n",
        "context_model.add(Embedding(vocabulary+1, emb_size, input_length=1,name='Context')) \n",
        "context_model.add(Reshape((emb_size,))) \n",
        "\n",
        "dot_product = dot([word_model.output, context_model.output], axes=1,normalize=False,name='dotproduct_layer') \n",
        "\n",
        "output = Dense(1,activation=\"sigmoid\",name='Output')(dot_product)\n",
        "\n",
        "model_w2v = Model(inputs=[word_model.input, context_model.input], outputs=output,name='word2vec') \n",
        "\n",
        "model_w2v.summary()"
      ],
      "metadata": {
        "colab": {
          "base_uri": "https://localhost:8080/"
        },
        "id": "MfPJ7ZMPEARr",
        "outputId": "4f14a312-5a86-4a90-8af7-72540f6c083c"
      },
      "execution_count": 70,
      "outputs": [
        {
          "output_type": "stream",
          "name": "stdout",
          "text": [
            "Model: \"word2vec\"\n",
            "__________________________________________________________________________________________________\n",
            " Layer (type)                   Output Shape         Param #     Connected to                     \n",
            "==================================================================================================\n",
            " Embedding_input (InputLayer)   [(None, 1)]          0           []                               \n",
            "                                                                                                  \n",
            " Context_input (InputLayer)     [(None, 1)]          0           []                               \n",
            "                                                                                                  \n",
            " Embedding (Embedding)          (None, 1, 128)       5856512     ['Embedding_input[0][0]']        \n",
            "                                                                                                  \n",
            " Context (Embedding)            (None, 1, 128)       5856512     ['Context_input[0][0]']          \n",
            "                                                                                                  \n",
            " reshape_4 (Reshape)            (None, 128)          0           ['Embedding[0][0]']              \n",
            "                                                                                                  \n",
            " reshape_5 (Reshape)            (None, 128)          0           ['Context[0][0]']                \n",
            "                                                                                                  \n",
            " dotproduct_layer (Dot)         (None, 1)            0           ['reshape_4[0][0]',              \n",
            "                                                                  'reshape_5[0][0]']              \n",
            "                                                                                                  \n",
            " Output (Dense)                 (None, 1)            2           ['dotproduct_layer[0][0]']       \n",
            "                                                                                                  \n",
            "==================================================================================================\n",
            "Total params: 11,713,026\n",
            "Trainable params: 11,713,026\n",
            "Non-trainable params: 0\n",
            "__________________________________________________________________________________________________\n"
          ]
        }
      ]
    },
    {
      "cell_type": "code",
      "source": [
        "model_w2v.compile(loss=\"binary_crossentropy\", optimizer=\"rmsprop\",metrics=['accuracy'])\n",
        "print(f\"total number of observations are: {len(words)}\")"
      ],
      "metadata": {
        "id": "a6tTUUnSEM4t",
        "colab": {
          "base_uri": "https://localhost:8080/"
        },
        "outputId": "c2b178a4-669e-4de4-b182-432a9c41a768"
      },
      "execution_count": 74,
      "outputs": [
        {
          "output_type": "stream",
          "name": "stdout",
          "text": [
            "total number of observations are: 1704172\n"
          ]
        }
      ]
    },
    {
      "cell_type": "code",
      "source": [
        "history_w2v=model_w2v.fit(x=[words,context],y=labels,validation_split=0.2,epochs=20,batch_size=512,verbose=1)"
      ],
      "metadata": {
        "colab": {
          "base_uri": "https://localhost:8080/"
        },
        "id": "6UDWwiidERfF",
        "outputId": "08f39c74-fd96-4971-cf79-4da591ea15ae"
      },
      "execution_count": 75,
      "outputs": [
        {
          "output_type": "stream",
          "name": "stdout",
          "text": [
            "Epoch 1/20\n",
            "2663/2663 [==============================] - 12s 4ms/step - loss: 0.5756 - accuracy: 0.6972 - val_loss: 0.4205 - val_accuracy: 0.8173\n",
            "Epoch 2/20\n",
            "2663/2663 [==============================] - 11s 4ms/step - loss: 0.3767 - accuracy: 0.8549 - val_loss: 0.3934 - val_accuracy: 0.8586\n",
            "Epoch 3/20\n",
            "2663/2663 [==============================] - 11s 4ms/step - loss: 0.3548 - accuracy: 0.8649 - val_loss: 0.3741 - val_accuracy: 0.8543\n",
            "Epoch 4/20\n",
            "2663/2663 [==============================] - 12s 4ms/step - loss: 0.3511 - accuracy: 0.8623 - val_loss: 0.3748 - val_accuracy: 0.8553\n",
            "Epoch 5/20\n",
            "2663/2663 [==============================] - 11s 4ms/step - loss: 0.3517 - accuracy: 0.8617 - val_loss: 0.3739 - val_accuracy: 0.8539\n",
            "Epoch 6/20\n",
            "2663/2663 [==============================] - 11s 4ms/step - loss: 0.3522 - accuracy: 0.8614 - val_loss: 0.3741 - val_accuracy: 0.8540\n",
            "Epoch 7/20\n",
            "2663/2663 [==============================] - 13s 5ms/step - loss: 0.3524 - accuracy: 0.8613 - val_loss: 0.3745 - val_accuracy: 0.8542\n",
            "Epoch 8/20\n",
            "2663/2663 [==============================] - 13s 5ms/step - loss: 0.3526 - accuracy: 0.8611 - val_loss: 0.3750 - val_accuracy: 0.8547\n",
            "Epoch 9/20\n",
            "2663/2663 [==============================] - 16s 6ms/step - loss: 0.3527 - accuracy: 0.8611 - val_loss: 0.3744 - val_accuracy: 0.8541\n",
            "Epoch 10/20\n",
            "2663/2663 [==============================] - 11s 4ms/step - loss: 0.3527 - accuracy: 0.8611 - val_loss: 0.3738 - val_accuracy: 0.8525\n",
            "Epoch 11/20\n",
            "2663/2663 [==============================] - 11s 4ms/step - loss: 0.3527 - accuracy: 0.8611 - val_loss: 0.3767 - val_accuracy: 0.8569\n",
            "Epoch 12/20\n",
            "2663/2663 [==============================] - 11s 4ms/step - loss: 0.3526 - accuracy: 0.8611 - val_loss: 0.3746 - val_accuracy: 0.8549\n",
            "Epoch 13/20\n",
            "2663/2663 [==============================] - 11s 4ms/step - loss: 0.3526 - accuracy: 0.8611 - val_loss: 0.3734 - val_accuracy: 0.8525\n",
            "Epoch 14/20\n",
            "2663/2663 [==============================] - 11s 4ms/step - loss: 0.3525 - accuracy: 0.8613 - val_loss: 0.3737 - val_accuracy: 0.8541\n",
            "Epoch 15/20\n",
            "2663/2663 [==============================] - 11s 4ms/step - loss: 0.3524 - accuracy: 0.8612 - val_loss: 0.3807 - val_accuracy: 0.8587\n",
            "Epoch 16/20\n",
            "2663/2663 [==============================] - 11s 4ms/step - loss: 0.3524 - accuracy: 0.8614 - val_loss: 0.3770 - val_accuracy: 0.8451\n",
            "Epoch 17/20\n",
            "2663/2663 [==============================] - 11s 4ms/step - loss: 0.3523 - accuracy: 0.8614 - val_loss: 0.3743 - val_accuracy: 0.8557\n",
            "Epoch 18/20\n",
            "2663/2663 [==============================] - 11s 4ms/step - loss: 0.3523 - accuracy: 0.8615 - val_loss: 0.3731 - val_accuracy: 0.8545\n",
            "Epoch 19/20\n",
            "2663/2663 [==============================] - 11s 4ms/step - loss: 0.3523 - accuracy: 0.8616 - val_loss: 0.3740 - val_accuracy: 0.8558\n",
            "Epoch 20/20\n",
            "2663/2663 [==============================] - 11s 4ms/step - loss: 0.3522 - accuracy: 0.8617 - val_loss: 0.3776 - val_accuracy: 0.8582\n"
          ]
        }
      ]
    },
    {
      "cell_type": "code",
      "source": [
        "plt.plot(history_w2v.history['loss'],c='#aa0033',marker = 'o', markeredgecolor='k',linewidth=2,label='Loss')\n",
        "plt.plot(history_w2v.history['val_loss'],c='#00aa66',marker = 'o', markeredgecolor='k',linewidth=2,label='Validation loss')\n",
        "plt.title('Loss vs epochs')\n",
        "plt.xlabel('Loss')\n",
        "plt.ylabel('Epochs')\n",
        "plt.legend()\n",
        "plt.show()"
      ],
      "metadata": {
        "colab": {
          "base_uri": "https://localhost:8080/",
          "height": 295
        },
        "id": "Ona71yTSES7p",
        "outputId": "48e46e64-ce9e-4f96-d1f9-1827790b71db"
      },
      "execution_count": 78,
      "outputs": [
        {
          "output_type": "display_data",
          "data": {
            "text/plain": [
              "<Figure size 432x288 with 1 Axes>"
            ],
            "image/png": "[encoded data removed]"
          },
          "metadata": {
            "needs_background": "light"
          }
        }
      ]
    },
    {
      "cell_type": "code",
      "source": [
        "plt.plot(history_w2v.history['accuracy'],c='#aa0033',marker = 'o', markeredgecolor='k',linewidth=2,label='accuracy')\n",
        "plt.plot(history_w2v.history['val_accuracy'],c='#00aa66',marker = 'o', markeredgecolor='k',linewidth=2,label='Validation accuracy')\n",
        "plt.title('Accuracy vs epochs')\n",
        "plt.xlabel('accuracy')\n",
        "plt.ylabel('Epochs')\n",
        "plt.legend()\n",
        "plt.show()"
      ],
      "metadata": {
        "colab": {
          "base_uri": "https://localhost:8080/",
          "height": 295
        },
        "id": "32cGtwbCogf8",
        "outputId": "8c238188-90cd-4187-cf03-043ced5b545c"
      },
      "execution_count": 79,
      "outputs": [
        {
          "output_type": "display_data",
          "data": {
            "text/plain": [
              "<Figure size 432x288 with 1 Axes>"
            ],
            "image/png": "[encoded data removed]"
          },
          "metadata": {
            "needs_background": "light"
          }
        }
      ]
    },
    {
      "cell_type": "markdown",
      "source": [
        "Checking how good the embeddings actually are, with the help of cosine similarity"
      ],
      "metadata": {
        "id": "DxiGuayVnZYU"
      }
    },
    {
      "cell_type": "code",
      "source": [
        "def cosine_similarity(vectorA, vectorB):\n",
        "    return np.dot(vectorA, vectorB)/(norm(vectorA)*norm(vectorB))"
      ],
      "metadata": {
        "id": "o6fHsKxnphty"
      },
      "execution_count": 42,
      "outputs": []
    },
    {
      "cell_type": "code",
      "source": [
        "def most_similar(word:str, n:int, embeddings: np.ndarray) -> list:\n",
        "  '''Takes in a word and returns the top n words having highest cosine similarity in there embeddings\n",
        "  predicted by model.'''\n",
        "  similarity = dict()\n",
        "  for key, embedding in embeddings.items():\n",
        "    similarity[key] = cosine_similarity(embeddings[word.lower()], embedding)\n",
        "  return sorted(similarity.items(), key = lambda x: x[1], reverse=True)[:n]"
      ],
      "metadata": {
        "id": "yR3D82W8qCYT"
      },
      "execution_count": 47,
      "outputs": []
    },
    {
      "cell_type": "code",
      "source": [
        "reverse_dictionary = tokenizer.index_word\n",
        "pred = word_model.predict(list(reverse_dictionary.keys()))\n",
        "embeddings = dict(zip(reverse_dictionary.values(), pred))"
      ],
      "metadata": {
        "id": "ZCiAP4DSpiqk"
      },
      "execution_count": 80,
      "outputs": []
    },
    {
      "cell_type": "code",
      "source": [
        "len(reverse_dictionary.keys())"
      ],
      "metadata": {
        "colab": {
          "base_uri": "https://localhost:8080/"
        },
        "id": "nwp3aft-uG4r",
        "outputId": "b5a01122-59d2-47fc-f2eb-1d2b68b12108"
      },
      "execution_count": 90,
      "outputs": [
        {
          "output_type": "execute_result",
          "data": {
            "text/plain": [
              "45753"
            ]
          },
          "metadata": {},
          "execution_count": 90
        }
      ]
    },
    {
      "cell_type": "code",
      "source": [
        "print(\"top 10 words similar to word 'state' are: \")\n",
        "most_similar('state', 10, embeddings)"
      ],
      "metadata": {
        "colab": {
          "base_uri": "https://localhost:8080/"
        },
        "id": "6ZXf-g-OqVi_",
        "outputId": "6a905d9c-dbca-4f5b-aba1-322fc2fc03e0"
      },
      "execution_count": 93,
      "outputs": [
        {
          "output_type": "stream",
          "name": "stdout",
          "text": [
            "top 10 words similar to word 'state' are: \n"
          ]
        },
        {
          "output_type": "execute_result",
          "data": {
            "text/plain": [
              "[('state', 1.0),\n",
              " ('ohio', 0.99678475),\n",
              " ('york', 0.99573624),\n",
              " ('pennsylvania', 0.99543315),\n",
              " ('portsmouth,', 0.99523634),\n",
              " ('university,', 0.9949469),\n",
              " ('penn', 0.994803),\n",
              " ('nottingham,', 0.99466497),\n",
              " ('chicago,', 0.9944144),\n",
              " ('participating', 0.99425095)]"
            ]
          },
          "metadata": {},
          "execution_count": 93
        }
      ]
    },
    {
      "cell_type": "markdown",
      "source": [
        "We can see here that some embeddings have sementic meaning, the possble cause of some inconsistency in results could be because we are concatinating every sequence into one giant sequence. so that we can make use of make sampliing table. Which also leads to an issue because the last word in a sentance and the next word in another sentance of our problem dosen't have semantic meaning.\n",
        "\n",
        "that is a sacrifice we are willing to make."
      ],
      "metadata": {
        "id": "JNfaY76qsqaR"
      }
    },
    {
      "cell_type": "markdown",
      "source": [
        "Training our word 2 vec model on full data, as we are satsified with the results"
      ],
      "metadata": {
        "id": "RmbMcQXdwGhM"
      }
    },
    {
      "cell_type": "code",
      "source": [
        "word_model = Sequential()\n",
        "word_model.add(Embedding(vocabulary+1, emb_size, input_length=1,name='Embedding')) \n",
        "word_model.add(Reshape((emb_size, )))\n",
        "\n",
        "context_model = Sequential() \n",
        "context_model.add(Embedding(vocabulary+1, emb_size, input_length=1,name='Context')) \n",
        "context_model.add(Reshape((emb_size,))) \n",
        "\n",
        "dot_product = dot([word_model.output, context_model.output], axes=1,normalize=False,name='dotproduct_layer') \n",
        "\n",
        "output = Dense(1,activation=\"sigmoid\",name='Output')(dot_product)\n",
        "\n",
        "model_w2v = Model(inputs=[word_model.input, context_model.input], outputs=output,name='word2vec') \n",
        "\n",
        "model_w2v.summary()"
      ],
      "metadata": {
        "colab": {
          "base_uri": "https://localhost:8080/"
        },
        "outputId": "659879bf-ecce-4e5c-ea50-78f4ffee1987",
        "id": "6VZA6fuBwhMJ"
      },
      "execution_count": 100,
      "outputs": [
        {
          "output_type": "stream",
          "name": "stdout",
          "text": [
            "Model: \"word2vec\"\n",
            "__________________________________________________________________________________________________\n",
            " Layer (type)                   Output Shape         Param #     Connected to                     \n",
            "==================================================================================================\n",
            " Embedding_input (InputLayer)   [(None, 1)]          0           []                               \n",
            "                                                                                                  \n",
            " Context_input (InputLayer)     [(None, 1)]          0           []                               \n",
            "                                                                                                  \n",
            " Embedding (Embedding)          (None, 1, 128)       5856512     ['Embedding_input[0][0]']        \n",
            "                                                                                                  \n",
            " Context (Embedding)            (None, 1, 128)       5856512     ['Context_input[0][0]']          \n",
            "                                                                                                  \n",
            " reshape_12 (Reshape)           (None, 128)          0           ['Embedding[0][0]']              \n",
            "                                                                                                  \n",
            " reshape_13 (Reshape)           (None, 128)          0           ['Context[0][0]']                \n",
            "                                                                                                  \n",
            " dotproduct_layer (Dot)         (None, 1)            0           ['reshape_12[0][0]',             \n",
            "                                                                  'reshape_13[0][0]']             \n",
            "                                                                                                  \n",
            " Output (Dense)                 (None, 1)            2           ['dotproduct_layer[0][0]']       \n",
            "                                                                                                  \n",
            "==================================================================================================\n",
            "Total params: 11,713,026\n",
            "Trainable params: 11,713,026\n",
            "Non-trainable params: 0\n",
            "__________________________________________________________________________________________________\n"
          ]
        }
      ]
    },
    {
      "cell_type": "code",
      "source": [
        "#training on full data\n",
        "es = tf.keras.callbacks.EarlyStopping(patience=5, mode='max', monitor='accuracy')\n",
        "model_w2v.compile(loss=\"binary_crossentropy\", optimizer=\"rmsprop\",metrics=['accuracy'])\n",
        "history_w2v=model_w2v.fit(x=[words,context],y=labels, epochs=20,batch_size=512,verbose=1, callbacks=es)"
      ],
      "metadata": {
        "colab": {
          "base_uri": "https://localhost:8080/"
        },
        "outputId": "89315827-9c6c-4b8a-8262-d8c616c09381",
        "id": "cMQh9G5fwhMK"
      },
      "execution_count": 103,
      "outputs": [
        {
          "output_type": "stream",
          "name": "stdout",
          "text": [
            "Epoch 1/20\n",
            "3329/3329 [==============================] - 28s 8ms/step - loss: 0.5302 - accuracy: 0.7349\n",
            "Epoch 2/20\n",
            "3329/3329 [==============================] - 28s 8ms/step - loss: 0.3725 - accuracy: 0.8647\n",
            "Epoch 3/20\n",
            "3329/3329 [==============================] - 28s 9ms/step - loss: 0.3519 - accuracy: 0.8635\n",
            "Epoch 4/20\n",
            "3329/3329 [==============================] - 19s 6ms/step - loss: 0.3532 - accuracy: 0.8616\n",
            "Epoch 5/20\n",
            "3329/3329 [==============================] - 19s 6ms/step - loss: 0.3543 - accuracy: 0.8609\n",
            "Epoch 6/20\n",
            "3329/3329 [==============================] - 22s 7ms/step - loss: 0.3548 - accuracy: 0.8606\n",
            "Epoch 7/20\n",
            "3329/3329 [==============================] - 23s 7ms/step - loss: 0.3550 - accuracy: 0.8603\n"
          ]
        }
      ]
    },
    {
      "cell_type": "code",
      "source": [
        "embedding_weights = model_w2v.get_layer('Embedding').get_weights()[0]\n",
        "embedding_weights.shape"
      ],
      "metadata": {
        "colab": {
          "base_uri": "https://localhost:8080/"
        },
        "id": "9F8Z82UoEfLD",
        "outputId": "eca838f3-0d3a-41d7-90d5-2844bb3eac89"
      },
      "execution_count": 104,
      "outputs": [
        {
          "output_type": "execute_result",
          "data": {
            "text/plain": [
              "(45754, 128)"
            ]
          },
          "metadata": {},
          "execution_count": 104
        }
      ]
    },
    {
      "cell_type": "code",
      "source": [
        "joblib.dump(embeddings,'word2vec_embeddings.pkl')"
      ],
      "metadata": {
        "colab": {
          "base_uri": "https://localhost:8080/"
        },
        "id": "x-kBw6E0Fi4_",
        "outputId": "83610109-5387-4c3e-9188-7a5f444439c4"
      },
      "execution_count": 106,
      "outputs": [
        {
          "output_type": "execute_result",
          "data": {
            "text/plain": [
              "['word2vec_embeddings.pkl']"
            ]
          },
          "metadata": {},
          "execution_count": 106
        }
      ]
    },
    {
      "cell_type": "markdown",
      "source": [
        "### 2.2 training our bidirectional lstm model with word 2 vec embeddings"
      ],
      "metadata": {
        "id": "YHR_f82Xv0Qv"
      }
    },
    {
      "cell_type": "markdown",
      "source": [
        "the model architecture includes:\n",
        "\n",
        "1) embedding layer of shape (vocab_size + 1, 128)\n",
        "\n",
        "2) LSTM layer with 100 units, and return sequences set to true so it could be passed to stacked bidirectional lstm layer\n",
        "\n",
        "3) Bidirectinal LSTM layers\n",
        "\n",
        "4) Timedistributedlayer for many to many ouputs, whih is wrapped on a dense layer with activation set to softmax"
      ],
      "metadata": {
        "id": "KEZ9_l-_v8m0"
      }
    },
    {
      "cell_type": "code",
      "source": [
        "inputs = Input(max_len)\n",
        "emb = Embedding(vocabulary + 1, emb_size, mask_zero=True,name='w2vembedding')(inputs)\n",
        "lstm_1 = LSTM(128, return_sequences=True)(emb)\n",
        "lstm_2 = Bidirectional(LSTM(128, return_sequences=True))(lstm_1)\n",
        "lstm_3 = Bidirectional(LSTM(256, return_sequences=True))(lstm_2)\n",
        "outputs = TimeDistributed(Dense(n_tags, activation=\"softmax\"))(lstm_3)\n",
        "model2 = tf.keras.Model(inputs, outputs)\n",
        "model2.summary()"
      ],
      "metadata": {
        "colab": {
          "base_uri": "https://localhost:8080/"
        },
        "id": "SHnU_lgxFjSx",
        "outputId": "a4076a72-783f-4163-b948-f17b294ae2bb"
      },
      "execution_count": 159,
      "outputs": [
        {
          "output_type": "stream",
          "name": "stdout",
          "text": [
            "Model: \"model_10\"\n",
            "_________________________________________________________________\n",
            " Layer (type)                Output Shape              Param #   \n",
            "=================================================================\n",
            " input_11 (InputLayer)       [(None, 795)]             0         \n",
            "                                                                 \n",
            " w2vembedding (Embedding)    (None, 795, 128)          5856512   \n",
            "                                                                 \n",
            " lstm_25 (LSTM)              (None, 795, 128)          131584    \n",
            "                                                                 \n",
            " bidirectional_15 (Bidirecti  (None, 795, 256)         263168    \n",
            " onal)                                                           \n",
            "                                                                 \n",
            " bidirectional_16 (Bidirecti  (None, 795, 512)         1050624   \n",
            " onal)                                                           \n",
            "                                                                 \n",
            " time_distributed_10 (TimeDi  (None, 795, 63)          32319     \n",
            " stributed)                                                      \n",
            "                                                                 \n",
            "=================================================================\n",
            "Total params: 7,334,207\n",
            "Trainable params: 7,334,207\n",
            "Non-trainable params: 0\n",
            "_________________________________________________________________\n"
          ]
        }
      ]
    },
    {
      "cell_type": "code",
      "source": [
        "#setting weights to the word 2 vec embeddings\n",
        "model2.get_layer('w2vembedding').set_weights([embedding_weights])\n",
        "model2.get_layer('w2vembedding').trainable=False"
      ],
      "metadata": {
        "id": "SvYXfEAVGnTt"
      },
      "execution_count": 160,
      "outputs": []
    },
    {
      "cell_type": "code",
      "source": [
        "model2.compile(loss='categorical_crossentropy', optimizer='adam', metrics=['accuracy'])\n",
        "es = keras.callbacks.EarlyStopping(monitor='val_accuracy', mode='max', patience=10, restore_best_weights=True, verbose=1)\n",
        "history2 = model2.fit(train_data, validation_data=val_data, epochs=100, callbacks=es)"
      ],
      "metadata": {
        "colab": {
          "base_uri": "https://localhost:8080/"
        },
        "id": "9EsShEfcGqTb",
        "outputId": "e455246e-4ac8-472d-9d70-c4127bd78b64"
      },
      "execution_count": 161,
      "outputs": [
        {
          "output_type": "stream",
          "name": "stdout",
          "text": [
            "Epoch 1/100\n",
            "22/22 [==============================] - 36s 599ms/step - loss: 0.5390 - accuracy: 0.7824 - val_loss: 0.4098 - val_accuracy: 0.8214\n",
            "Epoch 2/100\n",
            "22/22 [==============================] - 6s 262ms/step - loss: 0.4189 - accuracy: 0.8247 - val_loss: 0.4033 - val_accuracy: 0.8214\n",
            "Epoch 3/100\n",
            "22/22 [==============================] - 6s 263ms/step - loss: 0.4136 - accuracy: 0.8247 - val_loss: 0.3973 - val_accuracy: 0.8214\n",
            "Epoch 4/100\n",
            "22/22 [==============================] - 6s 264ms/step - loss: 0.3931 - accuracy: 0.8244 - val_loss: 0.3590 - val_accuracy: 0.8235\n",
            "Epoch 5/100\n",
            "22/22 [==============================] - 6s 264ms/step - loss: 0.3623 - accuracy: 0.8295 - val_loss: 0.3379 - val_accuracy: 0.8341\n",
            "Epoch 6/100\n",
            "22/22 [==============================] - 6s 264ms/step - loss: 0.3423 - accuracy: 0.8426 - val_loss: 0.3225 - val_accuracy: 0.8443\n",
            "Epoch 7/100\n",
            "22/22 [==============================] - 6s 264ms/step - loss: 0.3293 - accuracy: 0.8483 - val_loss: 0.3093 - val_accuracy: 0.8459\n",
            "Epoch 8/100\n",
            "22/22 [==============================] - 6s 265ms/step - loss: 0.3171 - accuracy: 0.8508 - val_loss: 0.3048 - val_accuracy: 0.8480\n",
            "Epoch 9/100\n",
            "22/22 [==============================] - 6s 266ms/step - loss: 0.3151 - accuracy: 0.8516 - val_loss: 0.2933 - val_accuracy: 0.8500\n",
            "Epoch 10/100\n",
            "22/22 [==============================] - 6s 264ms/step - loss: 0.3112 - accuracy: 0.8535 - val_loss: 0.3050 - val_accuracy: 0.8441\n",
            "Epoch 11/100\n",
            "22/22 [==============================] - 6s 266ms/step - loss: 0.2976 - accuracy: 0.8550 - val_loss: 0.2791 - val_accuracy: 0.8511\n",
            "Epoch 12/100\n",
            "22/22 [==============================] - 6s 265ms/step - loss: 0.2821 - accuracy: 0.8565 - val_loss: 0.2629 - val_accuracy: 0.8559\n",
            "Epoch 13/100\n",
            "22/22 [==============================] - 6s 265ms/step - loss: 0.3086 - accuracy: 0.8551 - val_loss: 0.2810 - val_accuracy: 0.8529\n",
            "Epoch 14/100\n",
            "22/22 [==============================] - 6s 264ms/step - loss: 0.2829 - accuracy: 0.8574 - val_loss: 0.2642 - val_accuracy: 0.8561\n",
            "Epoch 15/100\n",
            "22/22 [==============================] - 6s 266ms/step - loss: 0.2749 - accuracy: 0.8590 - val_loss: 0.2607 - val_accuracy: 0.8557\n",
            "Epoch 16/100\n",
            "22/22 [==============================] - 6s 266ms/step - loss: 0.2627 - accuracy: 0.8610 - val_loss: 0.2554 - val_accuracy: 0.8564\n",
            "Epoch 17/100\n",
            "22/22 [==============================] - 6s 264ms/step - loss: 0.2601 - accuracy: 0.8619 - val_loss: 0.2484 - val_accuracy: 0.8599\n",
            "Epoch 18/100\n",
            "22/22 [==============================] - 6s 267ms/step - loss: 0.2520 - accuracy: 0.8637 - val_loss: 0.2464 - val_accuracy: 0.8601\n",
            "Epoch 19/100\n",
            "22/22 [==============================] - 6s 268ms/step - loss: 0.2532 - accuracy: 0.8636 - val_loss: 0.2410 - val_accuracy: 0.8629\n",
            "Epoch 20/100\n",
            "22/22 [==============================] - 6s 266ms/step - loss: 0.2456 - accuracy: 0.8666 - val_loss: 0.2348 - val_accuracy: 0.8638\n",
            "Epoch 21/100\n",
            "22/22 [==============================] - 6s 267ms/step - loss: 0.2327 - accuracy: 0.8707 - val_loss: 0.2334 - val_accuracy: 0.8650\n",
            "Epoch 22/100\n",
            "22/22 [==============================] - 6s 265ms/step - loss: 0.2333 - accuracy: 0.8712 - val_loss: 0.2218 - val_accuracy: 0.8706\n",
            "Epoch 23/100\n",
            "22/22 [==============================] - 6s 267ms/step - loss: 0.2225 - accuracy: 0.8751 - val_loss: 0.2267 - val_accuracy: 0.8677\n",
            "Epoch 24/100\n",
            "22/22 [==============================] - 6s 267ms/step - loss: 0.2514 - accuracy: 0.8684 - val_loss: 0.2322 - val_accuracy: 0.8702\n",
            "Epoch 25/100\n",
            "22/22 [==============================] - 6s 268ms/step - loss: 0.2271 - accuracy: 0.8761 - val_loss: 0.2246 - val_accuracy: 0.8717\n",
            "Epoch 26/100\n",
            "22/22 [==============================] - 6s 270ms/step - loss: 0.2177 - accuracy: 0.8796 - val_loss: 0.2178 - val_accuracy: 0.8745\n",
            "Epoch 27/100\n",
            "22/22 [==============================] - 6s 267ms/step - loss: 0.2222 - accuracy: 0.8774 - val_loss: 0.2162 - val_accuracy: 0.8754\n",
            "Epoch 28/100\n",
            "22/22 [==============================] - 6s 266ms/step - loss: 0.2149 - accuracy: 0.8799 - val_loss: 0.2082 - val_accuracy: 0.8777\n",
            "Epoch 29/100\n",
            "22/22 [==============================] - 6s 264ms/step - loss: 0.2089 - accuracy: 0.8822 - val_loss: 0.2100 - val_accuracy: 0.8759\n",
            "Epoch 30/100\n",
            "22/22 [==============================] - 6s 264ms/step - loss: 0.2064 - accuracy: 0.8835 - val_loss: 0.2030 - val_accuracy: 0.8788\n",
            "Epoch 31/100\n",
            "22/22 [==============================] - 6s 265ms/step - loss: 0.2035 - accuracy: 0.8831 - val_loss: 0.2038 - val_accuracy: 0.8776\n",
            "Epoch 32/100\n",
            "22/22 [==============================] - 6s 265ms/step - loss: 0.2002 - accuracy: 0.8852 - val_loss: 0.1979 - val_accuracy: 0.8810\n",
            "Epoch 33/100\n",
            "22/22 [==============================] - 6s 264ms/step - loss: 0.1960 - accuracy: 0.8877 - val_loss: 0.1943 - val_accuracy: 0.8820\n",
            "Epoch 34/100\n",
            "22/22 [==============================] - 6s 265ms/step - loss: 0.1937 - accuracy: 0.8889 - val_loss: 0.1920 - val_accuracy: 0.8826\n",
            "Epoch 35/100\n",
            "22/22 [==============================] - 6s 263ms/step - loss: 0.1898 - accuracy: 0.8895 - val_loss: 0.1939 - val_accuracy: 0.8838\n",
            "Epoch 36/100\n",
            "22/22 [==============================] - 6s 264ms/step - loss: 0.1865 - accuracy: 0.8911 - val_loss: 0.1905 - val_accuracy: 0.8847\n",
            "Epoch 37/100\n",
            "22/22 [==============================] - 6s 264ms/step - loss: 0.1941 - accuracy: 0.8903 - val_loss: 0.1910 - val_accuracy: 0.8853\n",
            "Epoch 38/100\n",
            "22/22 [==============================] - 6s 262ms/step - loss: 0.1866 - accuracy: 0.8920 - val_loss: 0.1977 - val_accuracy: 0.8842\n",
            "Epoch 39/100\n",
            "22/22 [==============================] - 6s 265ms/step - loss: 0.1886 - accuracy: 0.8921 - val_loss: 0.1845 - val_accuracy: 0.8878\n",
            "Epoch 40/100\n",
            "22/22 [==============================] - 6s 266ms/step - loss: 0.1799 - accuracy: 0.8948 - val_loss: 0.1806 - val_accuracy: 0.8889\n",
            "Epoch 41/100\n",
            "22/22 [==============================] - 6s 263ms/step - loss: 0.1878 - accuracy: 0.8918 - val_loss: 0.2298 - val_accuracy: 0.8625\n",
            "Epoch 42/100\n",
            "22/22 [==============================] - 6s 261ms/step - loss: 0.2386 - accuracy: 0.8703 - val_loss: 0.2201 - val_accuracy: 0.8681\n",
            "Epoch 43/100\n",
            "22/22 [==============================] - 6s 264ms/step - loss: 0.2190 - accuracy: 0.8750 - val_loss: 0.2065 - val_accuracy: 0.8746\n",
            "Epoch 44/100\n",
            "22/22 [==============================] - 6s 264ms/step - loss: 0.2042 - accuracy: 0.8822 - val_loss: 0.1994 - val_accuracy: 0.8802\n",
            "Epoch 45/100\n",
            "22/22 [==============================] - 6s 261ms/step - loss: 0.1912 - accuracy: 0.8897 - val_loss: 0.1899 - val_accuracy: 0.8859\n",
            "Epoch 46/100\n",
            "22/22 [==============================] - 6s 265ms/step - loss: 0.1821 - accuracy: 0.8943 - val_loss: 0.1857 - val_accuracy: 0.8889\n",
            "Epoch 47/100\n",
            "22/22 [==============================] - 6s 262ms/step - loss: 0.1796 - accuracy: 0.8953 - val_loss: 0.1858 - val_accuracy: 0.8868\n",
            "Epoch 48/100\n",
            "22/22 [==============================] - 6s 265ms/step - loss: 0.2794 - accuracy: 0.8577 - val_loss: 0.2339 - val_accuracy: 0.8694\n",
            "Epoch 49/100\n",
            "22/22 [==============================] - 6s 264ms/step - loss: 0.2230 - accuracy: 0.8798 - val_loss: 0.2234 - val_accuracy: 0.8752\n",
            "Epoch 50/100\n",
            "22/22 [==============================] - 6s 265ms/step - loss: 0.2145 - accuracy: 0.8826 - val_loss: 0.2094 - val_accuracy: 0.8782\n",
            "Epoch 51/100\n",
            "22/22 [==============================] - 6s 264ms/step - loss: 0.1988 - accuracy: 0.8892 - val_loss: 0.1957 - val_accuracy: 0.8852\n",
            "Epoch 52/100\n",
            "22/22 [==============================] - 6s 264ms/step - loss: 0.1895 - accuracy: 0.8923 - val_loss: 0.1899 - val_accuracy: 0.8872\n",
            "Epoch 53/100\n",
            "22/22 [==============================] - 6s 265ms/step - loss: 0.1826 - accuracy: 0.8950 - val_loss: 0.1842 - val_accuracy: 0.8887\n",
            "Epoch 54/100\n",
            "22/22 [==============================] - 6s 264ms/step - loss: 0.1803 - accuracy: 0.8961 - val_loss: 0.1832 - val_accuracy: 0.8907\n",
            "Epoch 55/100\n",
            "22/22 [==============================] - 6s 264ms/step - loss: 0.1778 - accuracy: 0.8973 - val_loss: 0.1818 - val_accuracy: 0.8904\n",
            "Epoch 56/100\n",
            "22/22 [==============================] - 6s 263ms/step - loss: 0.1744 - accuracy: 0.8984 - val_loss: 0.1765 - val_accuracy: 0.8921\n",
            "Epoch 57/100\n",
            "22/22 [==============================] - 6s 264ms/step - loss: 0.1698 - accuracy: 0.9007 - val_loss: 0.1745 - val_accuracy: 0.8937\n",
            "Epoch 58/100\n",
            "22/22 [==============================] - 6s 261ms/step - loss: 0.1761 - accuracy: 0.8990 - val_loss: 0.1820 - val_accuracy: 0.8927\n",
            "Epoch 59/100\n",
            "22/22 [==============================] - 6s 264ms/step - loss: 0.1694 - accuracy: 0.9014 - val_loss: 0.1739 - val_accuracy: 0.8950\n",
            "Epoch 60/100\n",
            "22/22 [==============================] - 6s 267ms/step - loss: 0.1667 - accuracy: 0.9022 - val_loss: 0.1696 - val_accuracy: 0.8971\n",
            "Epoch 61/100\n",
            "22/22 [==============================] - 6s 260ms/step - loss: 0.1651 - accuracy: 0.9031 - val_loss: 0.1748 - val_accuracy: 0.8948\n",
            "Epoch 62/100\n",
            "22/22 [==============================] - 6s 262ms/step - loss: 0.1637 - accuracy: 0.9044 - val_loss: 0.1679 - val_accuracy: 0.8980\n",
            "Epoch 63/100\n",
            "22/22 [==============================] - 6s 263ms/step - loss: 0.1583 - accuracy: 0.9071 - val_loss: 0.1654 - val_accuracy: 0.9000\n",
            "Epoch 64/100\n",
            "22/22 [==============================] - 6s 263ms/step - loss: 0.1572 - accuracy: 0.9080 - val_loss: 0.1661 - val_accuracy: 0.9005\n",
            "Epoch 65/100\n",
            "22/22 [==============================] - 6s 264ms/step - loss: 0.1559 - accuracy: 0.9089 - val_loss: 0.1650 - val_accuracy: 0.9007\n",
            "Epoch 66/100\n",
            "22/22 [==============================] - 6s 262ms/step - loss: 0.1544 - accuracy: 0.9088 - val_loss: 0.1664 - val_accuracy: 0.8993\n",
            "Epoch 67/100\n",
            "22/22 [==============================] - 6s 264ms/step - loss: 0.1523 - accuracy: 0.9107 - val_loss: 0.1614 - val_accuracy: 0.9031\n",
            "Epoch 68/100\n",
            "22/22 [==============================] - 6s 265ms/step - loss: 0.1495 - accuracy: 0.9122 - val_loss: 0.1607 - val_accuracy: 0.9032\n",
            "Epoch 69/100\n",
            "22/22 [==============================] - 6s 264ms/step - loss: 0.1501 - accuracy: 0.9118 - val_loss: 0.1623 - val_accuracy: 0.9018\n",
            "Epoch 70/100\n",
            "22/22 [==============================] - 6s 265ms/step - loss: 0.1486 - accuracy: 0.9123 - val_loss: 0.1593 - val_accuracy: 0.9049\n",
            "Epoch 71/100\n",
            "22/22 [==============================] - 6s 264ms/step - loss: 0.1456 - accuracy: 0.9145 - val_loss: 0.1584 - val_accuracy: 0.9040\n",
            "Epoch 72/100\n",
            "22/22 [==============================] - 6s 264ms/step - loss: 0.1469 - accuracy: 0.9139 - val_loss: 0.1590 - val_accuracy: 0.9053\n",
            "Epoch 73/100\n",
            "22/22 [==============================] - 6s 263ms/step - loss: 0.1441 - accuracy: 0.9149 - val_loss: 0.1590 - val_accuracy: 0.9048\n",
            "Epoch 74/100\n",
            "22/22 [==============================] - 6s 263ms/step - loss: 0.1417 - accuracy: 0.9167 - val_loss: 0.1601 - val_accuracy: 0.9047\n",
            "Epoch 75/100\n",
            "22/22 [==============================] - 6s 264ms/step - loss: 0.1412 - accuracy: 0.9169 - val_loss: 0.1557 - val_accuracy: 0.9063\n",
            "Epoch 76/100\n",
            "22/22 [==============================] - 6s 262ms/step - loss: 0.1383 - accuracy: 0.9186 - val_loss: 0.1555 - val_accuracy: 0.9069\n",
            "Epoch 77/100\n",
            "22/22 [==============================] - 6s 264ms/step - loss: 0.1374 - accuracy: 0.9191 - val_loss: 0.1559 - val_accuracy: 0.9077\n",
            "Epoch 78/100\n",
            "22/22 [==============================] - 6s 261ms/step - loss: 0.1364 - accuracy: 0.9197 - val_loss: 0.1547 - val_accuracy: 0.9071\n",
            "Epoch 79/100\n",
            "22/22 [==============================] - 6s 261ms/step - loss: 0.1434 - accuracy: 0.9158 - val_loss: 0.1656 - val_accuracy: 0.9022\n",
            "Epoch 80/100\n",
            "22/22 [==============================] - 6s 260ms/step - loss: 0.1413 - accuracy: 0.9160 - val_loss: 0.1566 - val_accuracy: 0.9060\n",
            "Epoch 81/100\n",
            "22/22 [==============================] - 6s 262ms/step - loss: 0.1337 - accuracy: 0.9208 - val_loss: 0.1528 - val_accuracy: 0.9085\n",
            "Epoch 82/100\n",
            "22/22 [==============================] - 6s 261ms/step - loss: 0.1312 - accuracy: 0.9224 - val_loss: 0.1520 - val_accuracy: 0.9096\n",
            "Epoch 83/100\n",
            "22/22 [==============================] - 6s 261ms/step - loss: 0.1283 - accuracy: 0.9244 - val_loss: 0.1531 - val_accuracy: 0.9093\n",
            "Epoch 84/100\n",
            "22/22 [==============================] - 6s 263ms/step - loss: 0.1265 - accuracy: 0.9251 - val_loss: 0.1519 - val_accuracy: 0.9104\n",
            "Epoch 85/100\n",
            "22/22 [==============================] - 6s 262ms/step - loss: 0.1265 - accuracy: 0.9250 - val_loss: 0.1527 - val_accuracy: 0.9095\n",
            "Epoch 86/100\n",
            "22/22 [==============================] - 6s 258ms/step - loss: 0.1290 - accuracy: 0.9232 - val_loss: 0.1544 - val_accuracy: 0.9080\n",
            "Epoch 87/100\n",
            "22/22 [==============================] - 6s 262ms/step - loss: 0.1243 - accuracy: 0.9264 - val_loss: 0.1518 - val_accuracy: 0.9110\n",
            "Epoch 88/100\n",
            "22/22 [==============================] - 6s 260ms/step - loss: 0.1226 - accuracy: 0.9271 - val_loss: 0.1528 - val_accuracy: 0.9100\n",
            "Epoch 89/100\n",
            "22/22 [==============================] - 6s 261ms/step - loss: 0.1202 - accuracy: 0.9286 - val_loss: 0.1520 - val_accuracy: 0.9115\n",
            "Epoch 90/100\n",
            "22/22 [==============================] - 6s 260ms/step - loss: 0.1183 - accuracy: 0.9301 - val_loss: 0.1530 - val_accuracy: 0.9103\n",
            "Epoch 91/100\n",
            "22/22 [==============================] - 6s 262ms/step - loss: 0.1165 - accuracy: 0.9310 - val_loss: 0.1516 - val_accuracy: 0.9117\n",
            "Epoch 92/100\n",
            "22/22 [==============================] - 6s 261ms/step - loss: 0.1143 - accuracy: 0.9320 - val_loss: 0.1520 - val_accuracy: 0.9113\n",
            "Epoch 93/100\n",
            "22/22 [==============================] - 6s 262ms/step - loss: 0.1139 - accuracy: 0.9321 - val_loss: 0.1517 - val_accuracy: 0.9106\n",
            "Epoch 94/100\n",
            "22/22 [==============================] - 6s 261ms/step - loss: 0.1118 - accuracy: 0.9336 - val_loss: 0.1500 - val_accuracy: 0.9118\n",
            "Epoch 95/100\n",
            "22/22 [==============================] - 6s 261ms/step - loss: 0.1098 - accuracy: 0.9345 - val_loss: 0.1508 - val_accuracy: 0.9122\n",
            "Epoch 96/100\n",
            "22/22 [==============================] - 6s 260ms/step - loss: 0.1088 - accuracy: 0.9349 - val_loss: 0.1511 - val_accuracy: 0.9114\n",
            "Epoch 97/100\n",
            "22/22 [==============================] - 6s 259ms/step - loss: 0.1089 - accuracy: 0.9351 - val_loss: 0.1560 - val_accuracy: 0.9107\n",
            "Epoch 98/100\n",
            "22/22 [==============================] - 6s 262ms/step - loss: 0.1059 - accuracy: 0.9367 - val_loss: 0.1567 - val_accuracy: 0.9103\n",
            "Epoch 99/100\n",
            "22/22 [==============================] - 6s 262ms/step - loss: 0.1062 - accuracy: 0.9364 - val_loss: 0.1530 - val_accuracy: 0.9116\n",
            "Epoch 100/100\n",
            "22/22 [==============================] - 6s 263ms/step - loss: 0.1039 - accuracy: 0.9376 - val_loss: 0.1557 - val_accuracy: 0.9112\n"
          ]
        }
      ]
    },
    {
      "cell_type": "code",
      "source": [
        "n_epochs = len(history2.history['accuracy'])\n",
        "plt.plot(range(1, n_epochs + 1), history2.history['accuracy'],color='cyan', label='training accuracy')\n",
        "plt.plot(range(1, n_epochs + 1), history2.history['val_accuracy'],color='red', label='validation accuracy')\n",
        "plt.legend(loc='best')\n",
        "plt.xticks(range(1, n_epochs+1, 10))\n",
        "plt.title(\"Epochs vs accuracy\")\n",
        "plt.xlabel('epoch')\n",
        "plt.ylabel('accuracy')\n",
        "plt.show()"
      ],
      "metadata": {
        "colab": {
          "base_uri": "https://localhost:8080/",
          "height": 295
        },
        "id": "ks2KXk42IH6G",
        "outputId": "7d9a7b76-b383-483a-eeff-518da0e33028"
      },
      "execution_count": 167,
      "outputs": [
        {
          "output_type": "display_data",
          "data": {
            "text/plain": [
              "<Figure size 432x288 with 1 Axes>"
            ],
            "image/png": "[encoded data removed]"
          },
          "metadata": {
            "needs_background": "light"
          }
        }
      ]
    },
    {
      "cell_type": "code",
      "source": [
        "plt.plot(range(1, n_epochs + 1), history2.history['loss'],color='cyan', label='training loss')\n",
        "plt.plot(range(1, n_epochs + 1), history2.history['val_loss'],color='red', label='validation loss')\n",
        "plt.legend(loc='best')\n",
        "plt.xticks(range(1, n_epochs+1, 10))\n",
        "plt.title(\"Epochs vs loss\")\n",
        "plt.xlabel('epoch')\n",
        "plt.ylabel('loss')\n",
        "plt.show()"
      ],
      "metadata": {
        "colab": {
          "base_uri": "https://localhost:8080/",
          "height": 295
        },
        "id": "za_iS0Ql2had",
        "outputId": "f40e81cd-fb00-4278-dc19-6a682ed45793"
      },
      "execution_count": 168,
      "outputs": [
        {
          "output_type": "display_data",
          "data": {
            "text/plain": [
              "<Figure size 432x288 with 1 Axes>"
            ],
            "image/png": "[encoded data removed]"
          },
          "metadata": {
            "needs_background": "light"
          }
        }
      ]
    },
    {
      "cell_type": "code",
      "source": [
        "loss2, accuracy2 = model2.evaluate(val_data)\n",
        "print(f\"\\n\\nModel with bidirectional lstm and lstm model is giving: \\naccuracy: {accuracy2:.3f}\\nloss: {loss2:.3f}\")"
      ],
      "metadata": {
        "colab": {
          "base_uri": "https://localhost:8080/"
        },
        "id": "7ZWIAYtqP6Oo",
        "outputId": "9931d448-f53d-42ab-8fa7-8e93dff9130a"
      },
      "execution_count": 208,
      "outputs": [
        {
          "output_type": "stream",
          "name": "stdout",
          "text": [
            "6/6 [==============================] - 5s 105ms/step - loss: 0.1557 - accuracy: 0.9112\n",
            "\n",
            "\n",
            "Model with bidirectional lstm and lstm model is giving: \n",
            "accuracy: 0.911\n",
            "loss: 0.156\n"
          ]
        }
      ]
    },
    {
      "cell_type": "code",
      "source": [
        "#making one sample from validatoin_data\n",
        "x, y = next(iter(val_data.take(1)))\n",
        "sample_x, sample_true_y = x[0], y[0]\n",
        "print(f\"Size of 1 sample from validation data is (x and y): {sample_x.shape, sample_true_y.shape}\")"
      ],
      "metadata": {
        "colab": {
          "base_uri": "https://localhost:8080/"
        },
        "id": "hR-LEDk-Jc4F",
        "outputId": "1953a226-338e-42b9-c4bd-5ec6a8217d08"
      },
      "execution_count": 174,
      "outputs": [
        {
          "output_type": "stream",
          "name": "stdout",
          "text": [
            "Size of 1 sample from validation data is (x and y): (TensorShape([795]), TensorShape([795, 63]))\n"
          ]
        }
      ]
    },
    {
      "cell_type": "code",
      "source": [
        "pred_y = model2.predict(np.expand_dims(sample_x, 0))[0]"
      ],
      "metadata": {
        "id": "7x-7zk9jIsW_"
      },
      "execution_count": 175,
      "outputs": []
    },
    {
      "cell_type": "code",
      "source": [
        "print_senttags(sample_x, sample_true_y)"
      ],
      "metadata": {
        "colab": {
          "base_uri": "https://localhost:8080/",
          "height": 221
        },
        "id": "7XExaII6JRdq",
        "outputId": "c78d8ea6-77e5-4896-f38a-db2a54949027"
      },
      "execution_count": 176,
      "outputs": [
        {
          "output_type": "stream",
          "name": "stdout",
          "text": [
            "sample token to word(padded tokens are skipped) with there corresponding tag (except for 'O' tag): \n",
            "\n",
            "\n"
          ]
        },
        {
          "output_type": "execute_result",
          "data": {
            "text/plain": [
              "'that the 3:2 mmr of the orbital periods affect periodic variations of the keplerian[B-Model] orbital parameters. she has obtained the expansion of disturbing function and identified only two first-order 3:2 resonance term. but we identify ( r + 1): r mmr terms in the expression of disturbing function and obtained the perturbations from the truncated disturbing function. in this manuscript, we have taken three exoplanetary systems namely kepler-62,[B-CelestialObject] hd[B-CelestialObject] 200964[I-CelestialObject] and kepler-11[B-CelestialObject] and as per our knowledge they contain planets in 2:1, 4:3 and 5:4 near mmrs, respectively. we apply theory discussed in sections 3 and 4 individually in our three exoplanetary systems that we have chosen. this paper is organized as follows. in section 2, we introduce the general three-body problem and the stability of exoplanetary system. the expansions of the disturbing function and perturbation equations of orbital elements are introduced in section 3 . in section 4, we present our secular resonance dynamics of exoplanetary system. applications of the model for the case of 2:1 resonance are shown in section 5 for kepler-62[B-CelestialObject] system. the case of the 4:3 resonance is discussed in section 6 for hd[B-CelestialObject] 200964[I-CelestialObject] system. in section 7 , the case of 5:4 is discussed for kepler-11[B-CelestialObject] system. finally, section 8 is devoted to conclusions. 2 general three-body problem and dynamical stability suppose the barycentric position vectors of star and two planets be , and , respectively. let two planets of masses m 1 and m 2 orbiting a star of mass m ⋆ . let the jacobi coordinates and be the position of m 1 relative to m ⋆ and position of m 2 relative to the centre of mass m ⋆ and m 1 . we notice that this system is different from the restricted problems in which one of the bodies must have negligible mass. also we ignore the effects of oblateness of star and the planets. we assume that the planets in all system are coplanar. this approximation of coplanarity makes sense because for exoplanets, their mutual inclination is not known with any precision, and is taken equal to zero (beaugé,[B-Citation] ferraz-mello[I-Citation] michtchenko[I-Citation] 2003[I-Citation] ). let a i , e i , λ i and ω i be the semimajor axis, eccentricity, mean longitude and the longitude of the pericentre of the i th planet for i[B-Formula] =[I-Formula] 1,[I-Formula] 2.[I-Formula] in the three-body problem, one of the interesting topic is the stability of the solar[B-CelestialObject] system[I-CelestialObject] or exoplanetary system. although, in celestial mechanics it is the unsolved problem till now, many scientist studied this because of its importance in many areas like space science, astronomy and astrophysics. in the context of planets and exoplanets formulation, graziani[B-Citation] black[I-Citation] ([I-Citation] 1981[I-Citation] )[I-Citation] studied conditions under which model planetary systems which consisting of a star and two planets with coplanar and initially circular orbits. based on their results, they obtained a necessary condition for orbital stability where m 1 and m 2 are masses of planetary companions and m ⋆ is the mass of the star. the parameter δ is the ratio of the separation distance between the'"
            ],
            "application/vnd.google.colaboratory.intrinsic+json": {
              "type": "string"
            }
          },
          "metadata": {},
          "execution_count": 176
        }
      ]
    },
    {
      "cell_type": "code",
      "source": [
        "print_senttags(sample_x, pred_y)"
      ],
      "metadata": {
        "colab": {
          "base_uri": "https://localhost:8080/",
          "height": 221
        },
        "id": "XoMxqI9QJrdd",
        "outputId": "494f5f01-fe08-4f6b-9fb8-7868cb153e8d"
      },
      "execution_count": 150,
      "outputs": [
        {
          "output_type": "stream",
          "name": "stdout",
          "text": [
            "sample token to word(padded tokens are skipped) with there corresponding tag (except for 'O' tag): \n",
            "\n",
            "\n"
          ]
        },
        {
          "output_type": "execute_result",
          "data": {
            "text/plain": [
              "'the authors are indebted to jeff coughlin for his expert review and suggestion to use the kepler ffis to evaluate false positive scenarios. e.g. was supported by the international short visit program of the swiss national science foundation. this paper includes data collected by the kepler mission, funding for which is provided by the nasa science mission directorate. some of the data presented herein were obtained at the w. m. keck observatory, which is operated as a scientific partnership among the california institute of technology, the university of california and nasa. the observatory was made possible by the generous financial support of the w.m. keck foundation. this research has made use of the nasa exoplanet archive, which is operated by the california institute of technology, under contract with the national aeronautics[I-Organization] and[I-Organization] space[I-Organization] administration[I-Organization] under the exoplanet exploration program. this research has also made use of the aladin sky atlas and the simbad database, developed and operated at the cds, strasbourg[I-Organization] observatory in france. facilities : irtf:spex , uh2.2m:snifs , keck2:esi/nirc-2 .'"
            ],
            "application/vnd.google.colaboratory.intrinsic+json": {
              "type": "string"
            }
          },
          "metadata": {},
          "execution_count": 150
        }
      ]
    },
    {
      "cell_type": "markdown",
      "source": [
        "We can see above that our model is now able to find out a good amount of ner tags with very good accuracy"
      ],
      "metadata": {
        "id": "k-vWkcWXQzRO"
      }
    },
    {
      "cell_type": "markdown",
      "source": [
        "## 3. Transformers is all you need! 🙌\n",
        "in this part we will be using a transformer to predict ner tags."
      ],
      "metadata": {
        "id": "_HWv--UJRHi-"
      }
    },
    {
      "cell_type": "code",
      "source": [
        "def generate_positional_encoding(max_length, model_size):\n",
        "    pos_enc = np.array(\n",
        "        [\n",
        "            [pos / np.power(10000, 2 * (j // 2) / model_size) for j in range(model_size)]\n",
        "            if pos != 0\n",
        "            else np.zeros(model_size)\n",
        "            for pos in range(max_length)\n",
        "        ]\n",
        "    )\n",
        "    pos_enc[1:, 0::2] = np.sin(pos_enc[1:, 0::2])  # dim 2i\n",
        "    pos_enc[1:, 1::2] = np.cos(pos_enc[1:, 1::2])  # dim 2i+1\n",
        "    return pos_enc"
      ],
      "metadata": {
        "id": "H4Dt6Th3TpqP"
      },
      "execution_count": 179,
      "outputs": []
    },
    {
      "cell_type": "code",
      "source": [
        "# defining our encoder layer\n",
        "class EncoderLayer(tf.keras.layers.Layer):\n",
        "    def __init__(self, embed_dim, dense_dim, num_heads):\n",
        "        super().__init__()\n",
        "        # Layer parameters\n",
        "        self.embed_dim = embed_dim\n",
        "        self.dense_dim = dense_dim\n",
        "        self.num_heads = num_heads\n",
        "\n",
        "        # MultiHeadAttention Layer - Self Attention\n",
        "        self.attention = tf.keras.layers.MultiHeadAttention(num_heads=num_heads, key_dim=embed_dim)\n",
        "        # Normalization Layer\n",
        "        self.attention_norm = tf.keras.layers.LayerNormalization(epsilon=1e-6)\n",
        "\n",
        "        # Dense projection\n",
        "        self.dense_proj = tf.keras.Sequential(\n",
        "            [tf.keras.layers.Dense(units=dense_dim, activation=\"relu\"),\n",
        "             tf.keras.layers.Dense(units=embed_dim)]\n",
        "        )\n",
        "        # Normalization Layer\n",
        "        self.dense_projection_norm = tf.keras.layers.LayerNormalization(epsilon=1e-6)\n",
        "\n",
        "    def call(self, inputs):\n",
        "        \n",
        "        # Compute Self Attention\n",
        "        self_attention = self.attention(query=inputs, value=inputs, key=inputs)\n",
        "        # Apply Normalization + Residual connection\n",
        "        self_attention = self.attention_norm(inputs + self_attention)\n",
        "\n",
        "        # Apply projection\n",
        "        layer_output = self.dense_proj(self_attention)\n",
        "        # Apply Normalization + Residual connection\n",
        "        layer_output = self.dense_projection_norm(self_attention + layer_output)\n",
        "\n",
        "        return layer_output"
      ],
      "metadata": {
        "id": "oyi89vLqRPes"
      },
      "execution_count": 180,
      "outputs": []
    },
    {
      "cell_type": "code",
      "source": [
        "# Generate postional encodings for sequence length of 60 and embedding dimension of 256\n",
        "positional_encodings = generate_positional_encoding(60, 256)\n",
        "print(positional_encodings.shape)\n",
        "\n",
        "print(\"Position 0:\",positional_encodings[0][:20])\n",
        "print(\"Position 1:\",positional_encodings[1][:20])\n",
        "print(\"Position 2:\",positional_encodings[2][:20])"
      ],
      "metadata": {
        "id": "RiUMwqN7thwv",
        "colab": {
          "base_uri": "https://localhost:8080/"
        },
        "outputId": "3152fd75-0778-4aae-b803-01ee217eebef"
      },
      "execution_count": 181,
      "outputs": [
        {
          "output_type": "stream",
          "name": "stdout",
          "text": [
            "(60, 256)\n",
            "Position 0: [0. 0. 0. 0. 0. 0. 0. 0. 0. 0. 0. 0. 0. 0. 0. 0. 0. 0. 0. 0.]\n",
            "Position 1: [0.84147098 0.54030231 0.8019618  0.59737533 0.76172041 0.64790587\n",
            " 0.72141412 0.69250391 0.68156135 0.73176098 0.64255691 0.76623796\n",
            " 0.60469402 0.79645787 0.56818322 0.82290208 0.53316844 0.84600911\n",
            " 0.49974046 0.8661752 ]\n",
            "Position 2: [ 0.90929743 -0.41614684  0.95814438 -0.28628544  0.98704625 -0.16043596\n",
            "  0.9991642  -0.04087666  0.99748     0.07094825  0.984703    0.17424123\n",
            "  0.96322662  0.26869029  0.9351183   0.35433567  0.90213071  0.43146283\n",
            "  0.86572559  0.50051894]\n"
          ]
        }
      ]
    },
    {
      "cell_type": "code",
      "source": [
        "# Compute the dot product of postion 1 with every other postions\n",
        "dot_results = []\n",
        "for idx in range(positional_encodings.shape[0]):\n",
        "  dot_results.append(np.dot(positional_encodings[1], positional_encodings[idx]))\n",
        "\n",
        "\n",
        "# Plot the dot product results\n",
        "fig = plt.figure(figsize=(20,5))\n",
        "axs = fig.add_subplot(1,3,1)\n",
        "axs.plot(np.arange(0, positional_encodings.shape[0]), dot_results)\n",
        "axs.set_xlabel('Positions')\n",
        "axs.set_ylabel('Dot product of positions')\n",
        "plt.show()"
      ],
      "metadata": {
        "id": "gPpoDlpBtm6L",
        "colab": {
          "base_uri": "https://localhost:8080/",
          "height": 334
        },
        "outputId": "855de9a0-1ae6-4f32-d811-cb43ca13cc6d"
      },
      "execution_count": 182,
      "outputs": [
        {
          "output_type": "display_data",
          "data": {
            "text/plain": [
              "<Figure size 1440x360 with 1 Axes>"
            ],
            "image/png": "[encoded data removed]"
          },
          "metadata": {
            "needs_background": "light"
          }
        }
      ]
    },
    {
      "cell_type": "code",
      "source": [
        "epochs = 100\n",
        "learning_rate = 0.001\n",
        "embedding_dim = 128\n",
        "num_layers = 4\n",
        "num_heads = 8\n",
        "ff_dim = 256"
      ],
      "metadata": {
        "id": "QtjaS9aDTDth"
      },
      "execution_count": 250,
      "outputs": []
    },
    {
      "cell_type": "markdown",
      "source": [
        "Our model below has:\n",
        "\n",
        "1. it uses word2vec embeddings which we have trained above as an input to the self attetion blocks.\n",
        "\n",
        "2. "
      ],
      "metadata": {
        "id": "2sDnEZsLmjXG"
      }
    },
    {
      "cell_type": "code",
      "source": [
        "# Free up memory\n",
        "from tensorflow.python.keras import backend as K\n",
        "K.clear_session()\n",
        "\n",
        "# Model input\n",
        "model_input = tf.keras.Input(shape=(max_len))\n",
        "embeddings = tf.keras.layers.Embedding(input_dim=vocabulary + 1, output_dim=embedding_dim, name='w2vembedding')(model_input)\n",
        "\n",
        "# Adding Postional encoding to the token embedding\n",
        "embeddings = embeddings + generate_positional_encoding(max_len,embedding_dim)\n",
        "\n",
        "# this will add the self attenction block till num_layers times\n",
        "encoder_output = embeddings\n",
        "for i in range(num_layers):\n",
        "    encoder_output = EncoderLayer(embed_dim=embedding_dim, dense_dim=ff_dim, num_heads=num_heads)(encoder_output)\n",
        "\n",
        "output = tf.keras.layers.Dense(units=n_tags, activation=\"softmax\")(encoder_output)\n",
        "model_2 = tf.keras.Model(inputs=[model_input], outputs=[output], name=\"ner_tags_bert_model\")\n",
        "\n",
        "optimizer = tf.keras.optimizers.Adam(learning_rate=learning_rate)\n",
        "\n",
        "# Compile\n",
        "model_2.compile(optimizer=optimizer, loss='categorical_crossentropy',  metrics=['accuracy'])\n",
        "model_2.summary()"
      ],
      "metadata": {
        "colab": {
          "base_uri": "https://localhost:8080/"
        },
        "id": "MU-FbDoST2kT",
        "outputId": "5bd09c3f-970f-4ca0-d8c6-a3d2fb7286b7"
      },
      "execution_count": 251,
      "outputs": [
        {
          "output_type": "stream",
          "name": "stdout",
          "text": [
            "Model: \"ner_tags_bert_model\"\n",
            "_________________________________________________________________\n",
            " Layer (type)                Output Shape              Param #   \n",
            "=================================================================\n",
            " input_20 (InputLayer)       [(None, 795)]             0         \n",
            "                                                                 \n",
            " w2vembedding (Embedding)    (None, 795, 128)          5856512   \n",
            "                                                                 \n",
            " tf.__operators__.add_7 (TFO  (None, 795, 128)         0         \n",
            " pLambda)                                                        \n",
            "                                                                 \n",
            " encoder_layer (EncoderLayer  (None, 795, 128)         593920    \n",
            " )                                                               \n",
            "                                                                 \n",
            " encoder_layer_1 (EncoderLay  (None, 795, 128)         593920    \n",
            " er)                                                             \n",
            "                                                                 \n",
            " encoder_layer_2 (EncoderLay  (None, 795, 128)         593920    \n",
            " er)                                                             \n",
            "                                                                 \n",
            " encoder_layer_3 (EncoderLay  (None, 795, 128)         593920    \n",
            " er)                                                             \n",
            "                                                                 \n",
            " dense_8 (Dense)             (None, 795, 63)           8127      \n",
            "                                                                 \n",
            "=================================================================\n",
            "Total params: 8,240,319\n",
            "Trainable params: 8,240,319\n",
            "Non-trainable params: 0\n",
            "_________________________________________________________________\n"
          ]
        }
      ]
    },
    {
      "cell_type": "code",
      "source": [
        "#setting weights to the word 2 vec embeddings\n",
        "model_2.get_layer('w2vembedding').set_weights([embedding_weights])\n",
        "model_2.get_layer('w2vembedding').trainable=False"
      ],
      "metadata": {
        "id": "1qkLqnSVWxIh"
      },
      "execution_count": 252,
      "outputs": []
    },
    {
      "cell_type": "code",
      "source": [
        "tf.keras.utils.plot_model(model_2, expand_nested=True, to_file='transformer_model.png')"
      ],
      "metadata": {
        "colab": {
          "base_uri": "https://localhost:8080/",
          "height": 758
        },
        "id": "jTxtnd47fHF-",
        "outputId": "d6d918b1-fdb4-4ea6-da0c-f42c59d4fc4e"
      },
      "execution_count": 253,
      "outputs": [
        {
          "output_type": "execute_result",
          "data": {
            "text/plain": [
              "<IPython.core.display.Image object>"
            ],
            "image/png": "[encoded data removed]"
          },
          "metadata": {},
          "execution_count": 253
        }
      ]
    },
    {
      "cell_type": "code",
      "source": [
        "es = keras.callbacks.EarlyStopping(monitor='val_accuracy', mode='max', patience=20, restore_best_weights=True, verbose=1)\n",
        "history_2 = model_2.fit(train_data, validation_data=val_data, epochs=100, callbacks=es)"
      ],
      "metadata": {
        "colab": {
          "base_uri": "https://localhost:8080/"
        },
        "id": "YdBoLLjlXRBH",
        "outputId": "5ae54021-6612-43d9-b020-f6ba7a827b73"
      },
      "execution_count": 254,
      "outputs": [
        {
          "output_type": "stream",
          "name": "stdout",
          "text": [
            "Epoch 1/100\n",
            "22/22 [==============================] - 23s 890ms/step - loss: 0.7117 - accuracy: 0.8847 - val_loss: 0.3883 - val_accuracy: 0.9296\n",
            "Epoch 2/100\n",
            "22/22 [==============================] - 19s 861ms/step - loss: 0.3747 - accuracy: 0.9274 - val_loss: 0.3333 - val_accuracy: 0.9307\n",
            "Epoch 3/100\n",
            "22/22 [==============================] - 19s 862ms/step - loss: 0.3273 - accuracy: 0.9320 - val_loss: 0.2881 - val_accuracy: 0.9359\n",
            "Epoch 4/100\n",
            "22/22 [==============================] - 19s 860ms/step - loss: 0.3207 - accuracy: 0.9322 - val_loss: 0.3313 - val_accuracy: 0.9270\n",
            "Epoch 5/100\n",
            "22/22 [==============================] - 19s 862ms/step - loss: 0.3189 - accuracy: 0.9309 - val_loss: 0.2723 - val_accuracy: 0.9394\n",
            "Epoch 6/100\n",
            "22/22 [==============================] - 19s 862ms/step - loss: 0.2616 - accuracy: 0.9397 - val_loss: 0.2316 - val_accuracy: 0.9441\n",
            "Epoch 7/100\n",
            "22/22 [==============================] - 19s 862ms/step - loss: 0.2310 - accuracy: 0.9446 - val_loss: 0.2200 - val_accuracy: 0.9462\n",
            "Epoch 8/100\n",
            "22/22 [==============================] - 19s 861ms/step - loss: 0.2009 - accuracy: 0.9502 - val_loss: 0.2166 - val_accuracy: 0.9464\n",
            "Epoch 9/100\n",
            "22/22 [==============================] - 19s 862ms/step - loss: 0.1873 - accuracy: 0.9525 - val_loss: 0.2112 - val_accuracy: 0.9510\n",
            "Epoch 10/100\n",
            "22/22 [==============================] - 19s 863ms/step - loss: 0.1705 - accuracy: 0.9564 - val_loss: 0.2016 - val_accuracy: 0.9516\n",
            "Epoch 11/100\n",
            "22/22 [==============================] - 19s 861ms/step - loss: 0.1600 - accuracy: 0.9593 - val_loss: 0.2011 - val_accuracy: 0.9512\n",
            "Epoch 12/100\n",
            "22/22 [==============================] - 19s 862ms/step - loss: 0.1479 - accuracy: 0.9621 - val_loss: 0.1967 - val_accuracy: 0.9525\n",
            "Epoch 13/100\n",
            "22/22 [==============================] - 19s 862ms/step - loss: 0.1381 - accuracy: 0.9647 - val_loss: 0.1965 - val_accuracy: 0.9536\n",
            "Epoch 14/100\n",
            "22/22 [==============================] - 19s 860ms/step - loss: 0.1266 - accuracy: 0.9676 - val_loss: 0.2071 - val_accuracy: 0.9495\n",
            "Epoch 15/100\n",
            "22/22 [==============================] - 19s 860ms/step - loss: 0.1206 - accuracy: 0.9687 - val_loss: 0.2016 - val_accuracy: 0.9524\n",
            "Epoch 16/100\n",
            "22/22 [==============================] - 19s 861ms/step - loss: 0.1106 - accuracy: 0.9710 - val_loss: 0.1935 - val_accuracy: 0.9542\n",
            "Epoch 17/100\n",
            "22/22 [==============================] - 19s 861ms/step - loss: 0.1032 - accuracy: 0.9726 - val_loss: 0.2016 - val_accuracy: 0.9526\n",
            "Epoch 18/100\n",
            "22/22 [==============================] - 19s 860ms/step - loss: 0.0965 - accuracy: 0.9741 - val_loss: 0.2022 - val_accuracy: 0.9536\n",
            "Epoch 19/100\n",
            "22/22 [==============================] - 19s 862ms/step - loss: 0.0913 - accuracy: 0.9752 - val_loss: 0.2032 - val_accuracy: 0.9544\n",
            "Epoch 20/100\n",
            "22/22 [==============================] - 19s 861ms/step - loss: 0.0876 - accuracy: 0.9760 - val_loss: 0.1998 - val_accuracy: 0.9542\n",
            "Epoch 21/100\n",
            "22/22 [==============================] - 19s 861ms/step - loss: 0.0836 - accuracy: 0.9767 - val_loss: 0.2035 - val_accuracy: 0.9535\n",
            "Epoch 22/100\n",
            "22/22 [==============================] - 19s 860ms/step - loss: 0.0781 - accuracy: 0.9781 - val_loss: 0.2029 - val_accuracy: 0.9540\n",
            "Epoch 23/100\n",
            "22/22 [==============================] - 19s 862ms/step - loss: 0.0740 - accuracy: 0.9790 - val_loss: 0.2048 - val_accuracy: 0.9546\n",
            "Epoch 24/100\n",
            "22/22 [==============================] - 19s 862ms/step - loss: 0.0702 - accuracy: 0.9799 - val_loss: 0.2068 - val_accuracy: 0.9547\n",
            "Epoch 25/100\n",
            "22/22 [==============================] - 19s 861ms/step - loss: 0.0687 - accuracy: 0.9800 - val_loss: 0.2132 - val_accuracy: 0.9541\n",
            "Epoch 26/100\n",
            "22/22 [==============================] - 19s 862ms/step - loss: 0.0669 - accuracy: 0.9803 - val_loss: 0.2075 - val_accuracy: 0.9554\n",
            "Epoch 27/100\n",
            "22/22 [==============================] - 19s 860ms/step - loss: 0.0629 - accuracy: 0.9815 - val_loss: 0.2092 - val_accuracy: 0.9549\n",
            "Epoch 28/100\n",
            "22/22 [==============================] - 19s 860ms/step - loss: 0.0593 - accuracy: 0.9824 - val_loss: 0.2211 - val_accuracy: 0.9524\n",
            "Epoch 29/100\n",
            "22/22 [==============================] - 19s 860ms/step - loss: 0.0576 - accuracy: 0.9825 - val_loss: 0.2245 - val_accuracy: 0.9526\n",
            "Epoch 30/100\n",
            "22/22 [==============================] - 19s 860ms/step - loss: 0.0562 - accuracy: 0.9830 - val_loss: 0.2218 - val_accuracy: 0.9522\n",
            "Epoch 31/100\n",
            "22/22 [==============================] - 19s 862ms/step - loss: 0.0538 - accuracy: 0.9836 - val_loss: 0.2227 - val_accuracy: 0.9533\n",
            "Epoch 32/100\n",
            "22/22 [==============================] - 19s 860ms/step - loss: 0.0520 - accuracy: 0.9840 - val_loss: 0.2214 - val_accuracy: 0.9535\n",
            "Epoch 33/100\n",
            "22/22 [==============================] - 19s 861ms/step - loss: 0.0521 - accuracy: 0.9837 - val_loss: 0.2309 - val_accuracy: 0.9534\n",
            "Epoch 34/100\n",
            "22/22 [==============================] - 19s 861ms/step - loss: 0.0508 - accuracy: 0.9841 - val_loss: 0.2294 - val_accuracy: 0.9540\n",
            "Epoch 35/100\n",
            "22/22 [==============================] - 19s 860ms/step - loss: 0.0481 - accuracy: 0.9849 - val_loss: 0.2330 - val_accuracy: 0.9533\n",
            "Epoch 36/100\n",
            "22/22 [==============================] - 19s 861ms/step - loss: 0.0456 - accuracy: 0.9855 - val_loss: 0.2396 - val_accuracy: 0.9527\n",
            "Epoch 37/100\n",
            "22/22 [==============================] - 19s 862ms/step - loss: 0.0436 - accuracy: 0.9862 - val_loss: 0.2467 - val_accuracy: 0.9511\n",
            "Epoch 38/100\n",
            "22/22 [==============================] - 19s 860ms/step - loss: 0.0419 - accuracy: 0.9866 - val_loss: 0.2367 - val_accuracy: 0.9540\n",
            "Epoch 39/100\n",
            "22/22 [==============================] - 19s 861ms/step - loss: 0.0407 - accuracy: 0.9869 - val_loss: 0.2441 - val_accuracy: 0.9537\n",
            "Epoch 40/100\n",
            "22/22 [==============================] - 19s 861ms/step - loss: 0.0399 - accuracy: 0.9872 - val_loss: 0.2449 - val_accuracy: 0.9530\n",
            "Epoch 41/100\n",
            "22/22 [==============================] - 19s 860ms/step - loss: 0.0380 - accuracy: 0.9877 - val_loss: 0.2585 - val_accuracy: 0.9527\n",
            "Epoch 42/100\n",
            "22/22 [==============================] - 19s 861ms/step - loss: 0.0367 - accuracy: 0.9881 - val_loss: 0.2596 - val_accuracy: 0.9529\n",
            "Epoch 43/100\n",
            "22/22 [==============================] - 19s 863ms/step - loss: 0.0365 - accuracy: 0.9881 - val_loss: 0.2493 - val_accuracy: 0.9542\n",
            "Epoch 44/100\n",
            "22/22 [==============================] - 19s 859ms/step - loss: 0.0361 - accuracy: 0.9880 - val_loss: 0.2564 - val_accuracy: 0.9546\n",
            "Epoch 45/100\n",
            "22/22 [==============================] - 19s 860ms/step - loss: 0.0358 - accuracy: 0.9882 - val_loss: 0.2488 - val_accuracy: 0.9526\n",
            "Epoch 46/100\n",
            "22/22 [==============================] - ETA: 0s - loss: 0.0348 - accuracy: 0.9885Restoring model weights from the end of the best epoch: 26.\n",
            "22/22 [==============================] - 19s 863ms/step - loss: 0.0348 - accuracy: 0.9885 - val_loss: 0.2589 - val_accuracy: 0.9542\n",
            "Epoch 46: early stopping\n"
          ]
        }
      ]
    },
    {
      "cell_type": "code",
      "source": [
        "n_epochs = len(history_2.history['accuracy'])\n",
        "plt.plot(range(1, n_epochs + 1), history_2.history['accuracy'],color='cyan', label='training accuracy')\n",
        "plt.plot(range(1, n_epochs + 1), history_2.history['val_accuracy'],color='red', label='validation accuracy')\n",
        "plt.legend(loc='best')\n",
        "plt.xticks(range(1, n_epochs+1, 10))\n",
        "plt.title(\"Epochs vs accuracy\")\n",
        "plt.xlabel('epoch')\n",
        "plt.ylabel('accuracy')\n",
        "plt.show()"
      ],
      "metadata": {
        "colab": {
          "base_uri": "https://localhost:8080/",
          "height": 295
        },
        "outputId": "fd0751c0-2db6-45f4-d041-275bc4c3d582",
        "id": "KFMY03A2Zo77"
      },
      "execution_count": 257,
      "outputs": [
        {
          "output_type": "display_data",
          "data": {
            "text/plain": [
              "<Figure size 432x288 with 1 Axes>"
            ],
            "image/png": "[encoded data removed]"
          },
          "metadata": {
            "needs_background": "light"
          }
        }
      ]
    },
    {
      "cell_type": "code",
      "source": [
        "plt.plot(range(1, n_epochs + 1), history_2.history['loss'],color='cyan', label='training loss')\n",
        "plt.plot(range(1, n_epochs + 1), history_2.history['val_loss'],color='red', label='validation loss')\n",
        "plt.legend(loc='best')\n",
        "plt.xticks(range(1, n_epochs+1, 10))\n",
        "plt.title(\"Epochs vs loss\")\n",
        "plt.xlabel('epoch')\n",
        "plt.ylabel('loss')\n",
        "plt.show()"
      ],
      "metadata": {
        "colab": {
          "base_uri": "https://localhost:8080/",
          "height": 295
        },
        "outputId": "da804227-dd39-4e2f-91eb-68e1b4ab239e",
        "id": "160VNJZ9Zo78"
      },
      "execution_count": 258,
      "outputs": [
        {
          "output_type": "display_data",
          "data": {
            "text/plain": [
              "<Figure size 432x288 with 1 Axes>"
            ],
            "image/png": "[encoded data removed]"
          },
          "metadata": {
            "needs_background": "light"
          }
        }
      ]
    },
    {
      "cell_type": "code",
      "source": [
        "loss3, accuracy3 = model_2.evaluate(val_data)\n",
        "print(f\"\\n\\nModel with bidirectional lstm and lstm model is giving: \\naccuracy: {accuracy3:.3f}\\nloss: {loss3:.3f}\")"
      ],
      "metadata": {
        "colab": {
          "base_uri": "https://localhost:8080/"
        },
        "outputId": "706fc941-1660-4115-947f-3d91745ac018",
        "id": "yntSmSL9Zo78"
      },
      "execution_count": 259,
      "outputs": [
        {
          "output_type": "stream",
          "name": "stdout",
          "text": [
            "6/6 [==============================] - 2s 270ms/step - loss: 0.2075 - accuracy: 0.9554\n",
            "\n",
            "\n",
            "Model with bidirectional lstm and lstm model is giving: \n",
            "accuracy: 0.955\n",
            "loss: 0.208\n"
          ]
        }
      ]
    },
    {
      "cell_type": "code",
      "source": [
        "#making one sample from validatoin_data\n",
        "x, y = next(iter(val_data.take(1)))\n",
        "sample_x, sample_true_y = x[0], y[0]\n",
        "print(f\"Size of 1 sample from validation data is (x and y): {sample_x.shape, sample_true_y.shape}\")"
      ],
      "metadata": {
        "colab": {
          "base_uri": "https://localhost:8080/"
        },
        "outputId": "98040e4a-d1a7-488d-86bd-3b697db52556",
        "id": "6DFMTnXxZo78"
      },
      "execution_count": 260,
      "outputs": [
        {
          "output_type": "stream",
          "name": "stdout",
          "text": [
            "Size of 1 sample from validation data is (x and y): (TensorShape([795]), TensorShape([795, 63]))\n"
          ]
        }
      ]
    },
    {
      "cell_type": "code",
      "source": [
        "pred_y = model_2.predict(np.expand_dims(sample_x, 0))[0]"
      ],
      "metadata": {
        "id": "GjU19pgtZo79"
      },
      "execution_count": 261,
      "outputs": []
    },
    {
      "cell_type": "code",
      "source": [
        "#true ner tags\n",
        "print_senttags(sample_x, sample_true_y)"
      ],
      "metadata": {
        "colab": {
          "base_uri": "https://localhost:8080/",
          "height": 461
        },
        "outputId": "777fc1ac-584f-4a56-d08f-6f9ed13c6fa8",
        "id": "AB5eH05RZo79"
      },
      "execution_count": 263,
      "outputs": [
        {
          "output_type": "stream",
          "name": "stdout",
          "text": [
            "sample token to word(padded tokens are skipped) with there corresponding tag (except for 'O' tag): \n",
            "\n",
            "\n"
          ]
        },
        {
          "output_type": "execute_result",
          "data": {
            "text/plain": [
              "'et[B-Citation] al.[I-Citation] ([I-Citation] 1996[I-Citation] )[I-Citation] and giri[B-Citation] chakrabarti[I-Citation] ([I-Citation] 2013[I-Citation] ):[I-Citation] the cooling rate is ∝ρ[B-Formula] 2[I-Formula] t[I-Formula] β[I-Formula] , where β[B-Formula] >[I-Formula] 0[I-Formula] is the cooling index. for β[B-Formula] =[I-Formula] 0.5,[I-Formula] the process is bremsstrahlung. in order to ensure the formation of a cold[B-Model] keplerian[I-Model] disc,[I-Model] we must use higher β in order for the cooling time-scale to be reduced compared with the infall time-scale. thus we increase cooling gradually inside the would-be keplerian[B-Model] component. when the region with keplerian[B-Model] distribution[I-Model] becomes optically thick, the index is raised to 0.6 as used in earlier simulations. this saves the prohibitive time required for monte[B-Model] carlo[I-Model] simulations,[I-Model] in order that normal bremsstrahlung radiation may be emitted as blackbody radiation in the optically thick region. giri[B-Citation] et[I-Citation] al.[I-Citation] ([I-Citation] 2015[I-Citation] )[I-Citation] found that the result is insensitive to the exact cooling process, since blackbody[B-Model] cooling[I-Model] also produced the expected standard disc in the equatorial plane in their simulation. in fig. 2 (a) and (b), we show the density, velocity and specific angular momentum distribution at t[B-Formula] =[I-Formula] 19.8[I-Formula] s[I-Formula] just before viscosity is turned on. as can be seen clearly, a standing shock at a distance of about 40 r g is formed, with a sudden rise of density and pressure. the colour (online) scale is on the right. the outflow starts in the region between the centrifugal barrier and the funnel wall (molteni[B-Citation] et[I-Citation] al.[I-Citation] 1996[I-Citation] ). specific angular momentum remains at its initial value of 1.7. figure 2. (a) density, velocity and (b) specific angular momentum distribution at t[B-Formula] =[I-Formula] 19.8[I-Formula] s[I-Formula] just before viscosity is turned on ( t 0 in fig. 1 a). here, a standing shock has formed at a distance of about 40 r g , with a sudden rise of density and pressure, and outflow has started between the centrifugal barrier and funnel wall region. density ρ is chosen to be unity in dimensionless units at the injection radius. in (b), the specific angular momentum distribution is represented by the solid curve for comparison with the keplerian[B-Model] distribution[I-Model] (dot–dashed curve). at t 0 , the specific angular momentum remains at its initial injected value of 1.7. after viscosity is turned on, as matter accretes, initially the viscous stress near the inner edge remains close to zero. as α increases with time, −α p becomes significant close to the inner edge, due to high pressure, and angular momentum transport starts efficiently. on the equatorial plane, this result is similar to what was seen in chakrabarti[B-Citation] molteni[I-Citation] ([I-Citation] 1995[I-Citation] ).[I-Citation] however, at the outer edge, though α itself is high, pressure being very low, the stress is not high enough and thus angular momentum transport remains slower. 4.1 results using viscosity description of case i in this case, we use . we chose α[B-Formula] 0[I-Formula] =[I-Formula] 0.12,[I-Formula] which is above the critical value of 0.074 required for a keplerian[B-Model] disc[I-Model] to form with the used injected parameters. in fig. 3 (a)–(b), we show the distributions at t[B-Formula] =[I-Formula] 41.58[I-Formula] s[I-Formula] of (a) the density and velocity vector and (b) the angular momentum distribution (solid). to compare, we also plot the keplerian[B-Model] distribution[I-Model]'"
            ],
            "application/vnd.google.colaboratory.intrinsic+json": {
              "type": "string"
            }
          },
          "metadata": {},
          "execution_count": 263
        }
      ]
    },
    {
      "cell_type": "code",
      "source": [
        "# predicted ner tags\n",
        "print_senttags(sample_x, pred_y)"
      ],
      "metadata": {
        "colab": {
          "base_uri": "https://localhost:8080/",
          "height": 442
        },
        "outputId": "e943dfa2-df9c-46ae-b629-9cbe614584b5",
        "id": "lVAH4vFKZo79"
      },
      "execution_count": 264,
      "outputs": [
        {
          "output_type": "stream",
          "name": "stdout",
          "text": [
            "sample token to word(padded tokens are skipped) with there corresponding tag (except for 'O' tag): \n",
            "\n",
            "\n"
          ]
        },
        {
          "output_type": "execute_result",
          "data": {
            "text/plain": [
              "'et[I-Citation] al.[I-Citation] ( 1996[I-Citation] ) and giri[B-Citation] chakrabarti[B-Model] ( 2013[I-Citation] ): the cooling rate is ∝ρ 2 t[B-Formula] β[B-Formula] , where β[B-Formula] >[I-Formula] 0[I-Formula] is the cooling index. for β[B-Formula] =[I-Formula] 0.5,[I-Formula] the process is bremsstrahlung.[I-Formula] in order to ensure the formation of a cold keplerian[B-Model] disc, we must use higher β in order for the cooling time-scale to be reduced compared with the infall time-scale. thus we increase cooling gradually inside the would-be[I-Model] keplerian[B-Model] component. when the region with keplerian[B-Model] distribution becomes optically thick, the index is raised to 0.6 as used in earlier simulations. this saves the prohibitive time required for monte[B-Model] carlo[I-Model] simulations, in order that normal bremsstrahlung radiation may be emitted as blackbody radiation in the optically thick region. giri[B-Citation] et[I-Citation] al.[I-Citation] ( 2015[I-Citation] ) found that the result is insensitive to the exact cooling process, since blackbody cooling also produced the expected standard disc in the equatorial plane in their simulation. in fig. 2 (a) and (b), we show the density, velocity and specific angular momentum distribution at t =[I-Formula] 19.8 s just before viscosity is turned on.[B-Model] as can be seen clearly, a standing shock at a distance of about 40 r g[I-Formula] is formed, with a sudden rise of density and pressure. the colour (online) scale is on the right. the outflow starts in the region between the centrifugal barrier and the funnel wall (molteni[B-Instrument] et[I-Citation] al.[I-Citation] 1996[I-Citation] ). specific angular momentum remains at its initial value of 1.7.[I-Formula] figure 2. (a) density, velocity and (b) specific angular momentum distribution at t =[I-Formula] 19.8 s just before viscosity is turned on ( t 0[I-Formula] in fig. 1 a). here, a standing shock has formed at a distance of about 40 r g , with a sudden rise of density and pressure, and outflow has started between the centrifugal barrier and funnel wall region. density ρ[B-Formula] is chosen to be unity in dimensionless units at the injection radius. in (b), the specific angular momentum distribution is represented by the solid curve for comparison with the keplerian[B-Model] distribution (dot–dashed curve). at t 0 , the specific angular momentum remains at its initial injected value of 1.7.[I-Formula] after viscosity is turned on, as matter accretes,[I-Formula] initially the viscous stress near the inner edge remains close to zero. as α increases with time, −α p becomes significant close to the inner edge,[B-Model] due to high pressure, and angular momentum transport starts efficiently. on the equatorial plane, this result is similar to what was seen in chakrabarti[I-Formula] molteni[I-Formula] ( 1995[I-Citation] ). however, at the outer edge, though α[I-Wavelength] itself is high, pressure being very low, the stress is not high enough and thus angular momentum transport remains slower. 4.1 results using viscosity description of case i in this case, we use . we chose α[I-Wavelength] 0[I-Formula] =[I-Formula] 0.12, which is above the critical value of 0.074 required for a keplerian[B-Model] disc to form with the used injected parameters. in fig. 3 (a)–(b), we show the distributions at t =[I-Formula] 41.58 s of (a) the density and velocity vector and (b) the angular momentum distribution (solid). to compare, we also plot the keplerian[B-Model] distribution'"
            ],
            "application/vnd.google.colaboratory.intrinsic+json": {
              "type": "string"
            }
          },
          "metadata": {},
          "execution_count": 264
        }
      ]
    },
    {
      "cell_type": "markdown",
      "source": [
        "We can see above that the transformer model outperforms every model we have used above. We can add more layers and run it for more epochs, to get even better results then this."
      ],
      "metadata": {
        "id": "jIw8lx4NZ_Yp"
      }
    },
    {
      "cell_type": "markdown",
      "source": [
        "## 4. Finding the best model and inference."
      ],
      "metadata": {
        "id": "68_RnPy_cX4v"
      }
    },
    {
      "cell_type": "code",
      "source": [
        "losses = [loss1, loss2, loss3]\n",
        "accuracies = [accuracy1, accuracy2, accuracy3]\n",
        "models = ['vanila 2 stack lstm', 'bidirectional lstm (word2vec embedding)', 'Transformers (word2vec embedding)']\n",
        "results_df = pd.DataFrame(zip(models, losses, accuracies), columns=['model', 'validaion loss', 'validation accuracy'])"
      ],
      "metadata": {
        "id": "qzaUouacciF-"
      },
      "execution_count": 267,
      "outputs": []
    },
    {
      "cell_type": "code",
      "source": [
        "results_df.style.background_gradient(cmap='gist_gray_r')"
      ],
      "metadata": {
        "colab": {
          "base_uri": "https://localhost:8080/",
          "height": 143
        },
        "id": "AOYniRT2dmaC",
        "outputId": "0faaf738-3e59-4df2-d76f-e6fa002b9f73"
      },
      "execution_count": 268,
      "outputs": [
        {
          "output_type": "execute_result",
          "data": {
            "text/plain": [
              "<pandas.io.formats.style.Styler at 0x7fc39f97f110>"
            ],
            "text/html": [
              "<style type=\"text/css\">\n",
              "#T_aa48f_row0_col1 {\n",
              "  background-color: #181818;\n",
              "  color: #f1f1f1;\n",
              "}\n",
              "#T_aa48f_row0_col2, #T_aa48f_row1_col1 {\n",
              "  background-color: #ffffff;\n",
              "  color: #000000;\n",
              "}\n",
              "#T_aa48f_row1_col2 {\n",
              "  background-color: #9c9c9c;\n",
              "  color: #f1f1f1;\n",
              "}\n",
              "#T_aa48f_row2_col1, #T_aa48f_row2_col2 {\n",
              "  background-color: #000000;\n",
              "  color: #f1f1f1;\n",
              "}\n",
              "</style>\n",
              "<table id=\"T_aa48f_\" class=\"dataframe\">\n",
              "  <thead>\n",
              "    <tr>\n",
              "      <th class=\"blank level0\" >&nbsp;</th>\n",
              "      <th class=\"col_heading level0 col0\" >model</th>\n",
              "      <th class=\"col_heading level0 col1\" >validaion loss</th>\n",
              "      <th class=\"col_heading level0 col2\" >validation accuracy</th>\n",
              "    </tr>\n",
              "  </thead>\n",
              "  <tbody>\n",
              "    <tr>\n",
              "      <th id=\"T_aa48f_level0_row0\" class=\"row_heading level0 row0\" >0</th>\n",
              "      <td id=\"T_aa48f_row0_col0\" class=\"data row0 col0\" >vanila 2 stack lstm</td>\n",
              "      <td id=\"T_aa48f_row0_col1\" class=\"data row0 col1\" >0.202600</td>\n",
              "      <td id=\"T_aa48f_row0_col2\" class=\"data row0 col2\" >0.882817</td>\n",
              "    </tr>\n",
              "    <tr>\n",
              "      <th id=\"T_aa48f_level0_row1\" class=\"row_heading level0 row1\" >1</th>\n",
              "      <td id=\"T_aa48f_row1_col0\" class=\"data row1 col0\" >bidirectional lstm (word2vec embedding)</td>\n",
              "      <td id=\"T_aa48f_row1_col1\" class=\"data row1 col1\" >0.155688</td>\n",
              "      <td id=\"T_aa48f_row1_col2\" class=\"data row1 col2\" >0.911164</td>\n",
              "    </tr>\n",
              "    <tr>\n",
              "      <th id=\"T_aa48f_level0_row2\" class=\"row_heading level0 row2\" >2</th>\n",
              "      <td id=\"T_aa48f_row2_col0\" class=\"data row2 col0\" >Transformers (word2vec embedding)</td>\n",
              "      <td id=\"T_aa48f_row2_col1\" class=\"data row2 col1\" >0.207515</td>\n",
              "      <td id=\"T_aa48f_row2_col2\" class=\"data row2 col2\" >0.955401</td>\n",
              "    </tr>\n",
              "  </tbody>\n",
              "</table>\n"
            ]
          },
          "metadata": {},
          "execution_count": 268
        }
      ]
    },
    {
      "cell_type": "markdown",
      "source": [
        "Iinference: We tried all the three models, but as we can see above that the transformers perform the best. One possible case for this could be because self attention block, not just it pays attention to the surronding context words like in word 2 vec or uses the last hidden state. \n",
        "It infacts looks at the whole sentances, much more like cnn for language models. Thus it has bigger receptive field and embbeds information of every word in a sentance's relations to the specific word and then creates an embedding of it, in order to predict the ner tag."
      ],
      "metadata": {
        "id": "BJjjpM-8lHzQ"
      }
    }
  ],
  "metadata": {
    "accelerator": "GPU",
    "colab": {
      "collapsed_sections": [
        "l-hQ9advwuK1",
        "k9QCeU1IMueK",
        "Fe_RiNfFy4f9",
        "VGBgeXRMa0SI",
        "f-NfUIcTnErt",
        "LYcJOurGCHgs",
        "YHR_f82Xv0Qv",
        "_HWv--UJRHi-",
        "68_RnPy_cX4v"
      ],
      "name": "Final.ipynb",
      "provenance": [],
      "include_colab_link": true
    },
    "gpuClass": "standard",
    "kernelspec": {
      "display_name": "Python 3",
      "name": "python3"
    },
    "language_info": {
      "name": "python"
    }
  },
  "nbformat": 4,
  "nbformat_minor": 0
}
